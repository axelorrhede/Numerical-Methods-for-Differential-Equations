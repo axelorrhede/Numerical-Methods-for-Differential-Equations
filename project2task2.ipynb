{
 "cells": [
  {
   "cell_type": "code",

   "execution_count": null,

   "metadata": {},
   "outputs": [],
   "source": [
    "import numpy as np\n",
    "import math\n",
    "import scipy.linalg as la\n",
    "import matplotlib.pyplot as plt\n",
    "import scipy"
   ]
  },
  {
   "cell_type": "code",

   "execution_count": null,
   "metadata": {},
   "outputs": [],

   "source": [
    "Nvec = np.linspace(3,10,7).astype(int)\n",
    "Nvec = 2**Nvec\n",
    "errorvec=[[],[],[]]\n",
    "hvec = 1/Nvec\n",
    "\n",
    "for N in Nvec:\n",
    "    first_row = np.zeros(N)\n",
    "    first_row[:2] = [-2, 1]\n",
    "    T = la.toeplitz(first_row)\n",
    "    T[N-1,N-2] = 2\n",
    "    T = T/((1/N)**2)\n",
    "\n",
    "    eig = np.array(scipy.linalg.eigvals(T))\n",
    "    eig = np.sort(eig)\n",
    "    caleig = eig[-3:]\n",
    "    trueeig = [-(math.pi*5/2)**2, -(math.pi*3/2)**2,-(math.pi*1/2)**2 ]\n",
    "\n",
    "    for i in range(len(errorvec)):\n",
    "         errorvec[i].append(np.abs(caleig[i]-trueeig[i]))\n",
    "\n",
    "for i in range(3):\n",
    "    plt.plot(np.log(hvec), np.log(errorvec[i]))\n",
    "    plt.plot(np.log(hvec), 2*np.log(hvec) + np.log(errorvec[i][0])-2*np.log(hvec[0]), '--')\n",
    "    plt.xlabel('h')\n",
    "    plt.ylabel('Error')\n",
    "    plt.legend(['Our error', 'h^2'])\n",
    "    plt.title('Proving that the error is O(h^2)')\n",
    "    plt.grid()\n",
    "    plt.show()\n",
    "\n"
   ]
  },
  {
   "cell_type": "code",

   "execution_count": null,
   "metadata": {},
   "outputs": [],

   "source": [
    "N = 499\n",
    "Xgrid = np.linspace(0,1,N+1)\n",
    "T = np.eye(N)*(-2.0) \n",
    "for i in range(N-1): #Denna for loopen  skapar T-matrisen. Kan skrivas mer effektivt. \n",
    "    T[i+1,i] = 1.0\n",
    "    T[i, i+1] = 1.0\n",
    "T[N-1,N-2] = 2\n",
    "h = (1/N)\n",
    "T = T/(h**2)\n",
    "\n",
    "eigvals, eigvectors = scipy.linalg.eig(T)\n",
    "eig_dict = {eigvals[i]: np.insert(eigvectors[:,i],0,0) for i in range(len(eigvals))}\n",
    "\n",
    "eigvals = np.sort(eigvals)[::-1]\n",
    "for i in range(3):  \n",
    "    plt.plot(Xgrid, (eig_dict[eigvals[i]]))\n",
    "    print('This belongs to value' + str(eigvals[i]))\n",
    "    plt.show()"
   ]
  }
 ],
 "metadata": {
  "kernelspec": {
   "display_name": "base",
   "language": "python",
   "name": "python3"
  },
  "language_info": {
   "codemirror_mode": {
    "name": "ipython",
    "version": 3
   },
   "file_extension": ".py",
   "mimetype": "text/x-python",
   "name": "python",
   "nbconvert_exporter": "python",
   "pygments_lexer": "ipython3",
   "version": "3.11.6"
  }
 },
 "nbformat": 4,
 "nbformat_minor": 2
}
