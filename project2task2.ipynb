{
 "cells": [
  {
   "cell_type": "code",
   "execution_count": 22,
   "metadata": {},
   "outputs": [],
   "source": [
    "import numpy as np\n",
    "import math\n",
    "import scipy.linalg as la\n",
    "import matplotlib.pyplot as plt\n",
    "import scipy"
   ]
  },
  {
   "cell_type": "code",
   "execution_count": 23,
   "metadata": {},
   "outputs": [],
   "source": [
    "def f0(x):\n",
    "    return 1\n",
    "\n",
    "def los0(x,alpha,beta,L):\n",
    "    return (x**2)/2 + (beta - alpha - (L**2)/2)*x/L + alpha"
   ]
  },
  {
   "cell_type": "code",
   "execution_count": 24,
   "metadata": {},
   "outputs": [],
   "source": [
    "def f1(x):\n",
    "    return x\n",
    "\n",
    "def los1(x,alpha,beta,L):\n",
    "    return (x**3)/6 + (beta - alpha - (L**3)/6)*x/L + alpha"
   ]
  },
  {
   "cell_type": "code",
   "execution_count": 25,
   "metadata": {},
   "outputs": [],
   "source": [
    "def f2(x): #Här skapar vi en testfunktion \n",
    "    return x**2\n",
    "\n",
    "def los2(x,alpha,beta,L): #Här definierar vi den exakta lösningen till ovanstående testfunktion\n",
    "    return (x**4)/12 + (beta - alpha - (L**4)/12)*x/L + alpha\n"
   ]
  },
  {
   "cell_type": "code",
   "execution_count": 29,
   "metadata": {},
   "outputs": [],
   "source": [
    "def twopBVP(fvec, alpha, beta, L, N):\n",
    "    deltaX = L/(N+1)\n",
    "    T = np.eye(N)*(-2) \n",
    "    for i in range(N-1): #Denna for loopen  skapar T-matrisen. Kan skrivas mer effektivt. \n",
    "        T[i+1,i] = 1\n",
    "        T[i, i+1] = 1\n",
    "    T[N-1,N-1] = 0\n",
    "    print(T)\n",
    "    eig = scipy.linalg.eigvals(T)\n",
    "    print(eig)\n",
    "    y = np.linalg.inv(T)@fvec\n",
    "    y = np.insert(y, 0, alpha)\n",
    "    #y = np.append(y,beta) \n",
    "    \n",
    "    return  y #Detta löser ekvationen och spottar ut en vektor innehållande y(i). \n",
    "\n",
    "def fvecgen(f,alpha, beta, L, N): #Tanken är att denna ska generera högerledet som man sedan stoppar in i twopBVP för att lösa. \n",
    "    deltaX = L/(N)\n",
    "    fvec = np.zeros((N,1))\n",
    "    Xvec = np.linspace(deltaX,L,N)\n",
    "    for i in range(len(Xvec)):  #Fyller fvec med funktionsvärdena F(x1) till F(xN-1)\n",
    "        fvec[i] = f(Xvec[i])\n",
    "    fvec[0] = -alpha/(deltaX**2) + fvec[0] #Första elementet i fvec fixar vi manuellt. \n",
    "    Xvec = np.insert(Xvec, 0, 0)\n",
    "    return fvec, Xvec\n",
    "\n",
    "    \n",
    "    "
   ]
  },
  {
   "cell_type": "code",
   "execution_count": 33,
   "metadata": {},
   "outputs": [
    {
     "name": "stdout",
     "output_type": "stream",
     "text": [
      "[[-2.  1. -0. -0. -0. -0. -0. -0. -0. -0.]\n",
      " [ 1. -2.  1. -0. -0. -0. -0. -0. -0. -0.]\n",
      " [-0.  1. -2.  1. -0. -0. -0. -0. -0. -0.]\n",
      " [-0. -0.  1. -2.  1. -0. -0. -0. -0. -0.]\n",
      " [-0. -0. -0.  1. -2.  1. -0. -0. -0. -0.]\n",
      " [-0. -0. -0. -0.  1. -2.  1. -0. -0. -0.]\n",
      " [-0. -0. -0. -0. -0.  1. -2.  1. -0. -0.]\n",
      " [-0. -0. -0. -0. -0. -0.  1. -2.  1. -0.]\n",
      " [-0. -0. -0. -0. -0. -0. -0.  1. -2.  1.]\n",
      " [-0. -0. -0. -0. -0. -0. -0. -0.  1.  0.]]\n",
      "[-3.90825825+0.j -3.64120977+0.j -3.2226663 +0.j -2.6899877 +0.j\n",
      " -2.09083263+0.j -1.47909621+0.j -0.91058465+0.j -0.4394611 +0.j\n",
      " -0.11790233+0.j  0.49999893+0.j]\n"
     ]
    }
   ],
   "source": [
    "N = 10\n",
    "T = np.eye(N)*(-2) \n",
    "for i in range(N-1): #Denna for loopen  skapar T-matrisen. Kan skrivas mer effektivt. \n",
    "    T[i+1,i] = 1\n",
    "    T[i, i+1] = 1\n",
    "T[N-1,N-1] = 0\n",
    "print(T)\n",
    "eig = scipy.linalg.eigvals(T)\n",
    "print(eig)\n"
   ]
  },
  {
   "cell_type": "code",
   "execution_count": 31,
   "metadata": {},
   "outputs": [
    {
     "name": "stdout",
     "output_type": "stream",
     "text": [
      "[[-2.  1. -0. -0.]\n",
      " [ 1. -2.  1. -0.]\n",
      " [-0.  1. -2.  1.]\n",
      " [-0. -0.  1.  0.]]\n",
      "[-3.49550766+0.j -2.21968687+0.j -0.78031313+0.j  0.49550766+0.j]\n"
     ]
    },
    {
     "data": {
      "text/plain": [
       "[<matplotlib.lines.Line2D at 0x2f050471910>]"
      ]
     },
     "execution_count": 31,
     "metadata": {},
     "output_type": "execute_result"
    },
    {
     "data": {
      "image/png": "[encoded data removed]",
      "text/plain": [
       "<Figure size 640x480 with 1 Axes>"
      ]
     },
     "metadata": {},
     "output_type": "display_data"
    }
   ],
   "source": [
    "f = f2\n",
    "alpha = 4\n",
    "beta = 0\n",
    "N = 4\n",
    "L = 10\n",
    "fvec, Xvec = fvecgen(f, alpha, beta, L, N)\n",
    "y = twopBVP(fvec, alpha, beta, L, N)\n",
    "\n",
    "plt.plot(Xvec, y)\n",
    "plt.plot(Xvec, los2(Xvec,alpha,beta,L), '--')\n"
   ]
  }
 ],
 "metadata": {
  "kernelspec": {
   "display_name": "base",
   "language": "python",
   "name": "python3"
  },
  "language_info": {
   "codemirror_mode": {
    "name": "ipython",
    "version": 3
   },
   "file_extension": ".py",
   "mimetype": "text/x-python",
   "name": "python",
   "nbconvert_exporter": "python",
   "pygments_lexer": "ipython3",
   "version": "3.11.6"
  }
 },
 "nbformat": 4,
 "nbformat_minor": 2
}
