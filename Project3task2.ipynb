{
 "cells": [
  {
   "cell_type": "code",
   "execution_count": null,
   "metadata": {},
   "outputs": [],
   "source": [
    "import numpy as np\n",
    "import math\n",
    "import scipy.linalg as la\n",
    "import matplotlib.pyplot as plt\n",
    "import scipy\n",
    "from mpl_toolkits.mplot3d import Axes3D\n",
    "# %matplotlib widget\n"
   ]
  },
  {
   "cell_type": "markdown",
   "metadata": {},
   "source": [
    "## Task 2.1"
   ]
  },
  {
   "cell_type": "code",
   "execution_count": null,
   "metadata": {},
   "outputs": [],
   "source": [
    "def LaxWensolve(g0, tend, N, M, a):\n",
    "     deltaX = 1/(N)  # rumssteg från x0 till xN-1\n",
    "     dt = tend/M  # tidsteg från t0 till tN\n",
    "     Xgrid = np.linspace(0, 1, N+1)\n",
    "     tgrid = np.linspace(0, tend, M+1)\n",
    "     mu = dt/deltaX\n",
    "     Tdx = la.toeplitz([1-(a*mu)**2, (a*mu)/2*(1+a*mu)] + [0] * (N-1), [1-(a*mu)**2, -(a*mu)/2*(1-a*mu)] + [0] * (N-1)) ##Skapar en Toeplitz matris för disc av andraderivatan\n",
    "     Tdx[-1, 0] = -(a*mu)/2*(1-a*mu)\n",
    "     Tdx[0, -1] = (a*mu)/2*(1+a*mu)\n",
    "     Y = np.zeros((M+1, N+1)) #Första värdet är tidssteget, andra är x-steget.\n",
    "     Y[0,:] = g0 #Sätter initialvärden\n",
    "     #Y[1:,0] = BC #Sätter gränsvärden i x=0 utom för t=0\n",
    "     for i in range(M):\n",
    "          Y[i+1,:] = (Tdx@np.transpose(Y[i, :]))\n",
    "          #Y[i+1,-1] = Y[i+1, 0]\n",
    "     \n",
    "\n",
    "     #Vi kan avsluta med att appenda en koloumn som är identiskt med den längst till vänster på höger sida av Y\n",
    "\n",
    "     return Y, Xgrid, tgrid\n",
    "          \n"
   ]
  },
  {
   "cell_type": "code",
   "execution_count": null,
   "metadata": {},
   "outputs": [],
   "source": [
    "def pulse(x):\n",
    "    return np.exp(-100*(x-0.5)**2)"
   ]
  },
  {
   "cell_type": "code",
   "execution_count": null,
   "metadata": {},
   "outputs": [],
   "source": [
    "def plot3D(Y, Xgrid, tgrid):\n",
    "     T, X = np.meshgrid(np.transpose(tgrid), Xgrid)\n",
    "\n",
    "     # Create a 3D plot\n",
    "     fig = plt.figure(figsize=(10, 10)) \n",
    "     ax = fig.add_subplot(111, projection='3d')\n",
    "     ax.plot_surface(T, X, np.transpose(Y), rcount= 1000, ccount = 1000)\n",
    "\n",
    "     ax.set_xlabel('Time')\n",
    "     ax.set_ylabel('Space')\n",
    "     ax.set_zlabel('Value')\n",
    "\n",
    "     plt.show()"
   ]
  },
  {
   "cell_type": "code",
   "execution_count": null,
   "metadata": {},
   "outputs": [],
   "source": [
    "def cala(N,M, tend, fact):\n",
    "    deltaX = 1/(N)  # rumssteg från x0 till xN-1\n",
    "    dt = tend/M  # tidsteg från t0 till tN\n",
    "    return deltaX/dt*fact"
   ]
  },
  {
   "cell_type": "markdown",
   "metadata": {},
   "source": [
    "### Använder Lax-Wendroff Solver för att plotta pulsen "
   ]
  },
  {
   "cell_type": "code",
   "execution_count": null,
   "metadata": {},
   "outputs": [],
   "source": [
    "a = -1\n",
    "N = 1000\n",
    "M = 1000\n",
    "for j in range(2):\n",
    "    if a > 0:\n",
    "        print(\"a is postive\")\n",
    "    else:\n",
    "        print(\"a is negative\")\n",
    "    \n",
    "    Xgrid = np.linspace(0, 1, N+1)\n",
    "    g0 = pulse(Xgrid) #np.zeros(N)\n",
    "    BC = np.zeros(M)\n",
    "    Y, Xgrid, tgrid = LaxWensolve(g0, 1, N, M, a)\n",
    "    plot3D(Y, Xgrid, tgrid)\n",
    "    # Använd nedanstående för att visa propagering \n",
    "    for i in range(5):      \n",
    "        plt.plot(Xgrid, Y[i*100,:])\n",
    "        plt.title(\"Time step is \" + str(i*100))\n",
    "        plt.xlabel(\"X-coordinate\")\n",
    "        plt.ylabel(\"Amplitude\")\n",
    "        plt.grid()\n",
    "        plt.show()\n",
    "    a = -a  \n",
    "\n",
    "\n",
    "\n",
    "\n",
    "    \n",
    "\n",
    "\n",
    "\n",
    "\n",
    "\n"
   ]
  },
  {
   "cell_type": "markdown",
   "metadata": {},
   "source": [
    "Run this code twice for diffrent CFL-numbers to show that RMS is slightly declining when CFL = 0.9 and constant when CFL = 1"
   ]
  },
  {
   "cell_type": "code",
   "execution_count": null,
   "metadata": {},
   "outputs": [],
   "source": [
    "N = 1000\n",
    "M = 1000\n",
    "tend = 5\n",
    "CFL = 1\n",
    "a = cala(N, M, tend, CFL) \n",
    "Xgrid = np.linspace(0, 1, N+1)\n",
    "g0 = pulse(Xgrid)\n",
    "Y, Xgrid, tgrid = LaxWensolve(g0, tend, N, M, a)\n",
    "plot3D(Y, Xgrid, tgrid)\n",
    "\n",
    "RMS = np.zeros(M+1)\n",
    "\n",
    "for i in range(M+1):\n",
    "    RMS[i] = la.norm(Y[i,:])\n",
    "\n",
    "plt.figure()\n",
    "plt.plot(tgrid, RMS)\n",
    "plt.title(\"Om a*mu är likamed 1 blir nästan konstant\")\n",
    "# om a*mu är är större än 1 blir det instabilt, om det är mindre än 1 blir det stabilt men minskar i amplitud (pyttelite)\n",
    "print(RMS)"
   ]
  }
 ],
 "metadata": {
  "kernelspec": {
   "display_name": "base",
   "language": "python",
   "name": "python3"
  },
  "language_info": {
   "codemirror_mode": {
    "name": "ipython",
    "version": 3
   },
   "file_extension": ".py",
   "mimetype": "text/x-python",
   "name": "python",
   "nbconvert_exporter": "python",
   "pygments_lexer": "ipython3",
   "version": "3.12.1"
  }
 },
 "nbformat": 4,
 "nbformat_minor": 2
}
