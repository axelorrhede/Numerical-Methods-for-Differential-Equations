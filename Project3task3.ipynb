{
 "cells": [
  {
   "cell_type": "code",
   "execution_count": null,
   "metadata": {},
   "outputs": [],
   "source": [
    "import numpy as np\n",
    "import math\n",
    "import scipy.linalg as la\n",
    "import matplotlib.pyplot as plt\n",
    "import scipy\n",
    "from mpl_toolkits.mplot3d import Axes3D\n",
    "import matplotlib.tri as mtri\n",
    "# %matplotlib widget\n"
   ]
  },
  {
   "cell_type": "markdown",
   "metadata": {},
   "source": [
    "## Task 3.1"
   ]
  },
  {
   "cell_type": "code",
   "execution_count": null,
   "metadata": {},
   "outputs": [],
   "source": [
    "def Convdifsolve(g0, N, M, a, d):\n",
    "     deltaX = 1/N  # rumssteg från x0 till xN-1\n",
    "     dt = 1/M  # tidsteg från t0 till tN\n",
    "     Xgrid = np.linspace(0, 1, N+1)\n",
    "     tgrid = np.linspace(0, 1, M+1)\n",
    "\n",
    "     T = la.toeplitz([-2, 1] + [0] * (N-1)) ##Skapar en Toeplitz matris för disc av andraderivatan\n",
    "     T[-1,0] = 1\n",
    "     T[0,-1] = 1\n",
    "     T = T/deltaX**2\n",
    "\n",
    "     S = la.toeplitz([-1, 0] + [0] * (N-1), [-1, 1] + [0] * (N-1)) ##Skapar en Toeplitz matris för disc av förstaderivatan\n",
    "     S[N,0] = 1\n",
    "     S = S/deltaX\n",
    "     \n",
    "     Xop = (d*T-a*S)*dt/2\n",
    "     op = np.linalg.inv(np.eye(N+1)-Xop)@(np.eye(N+1)+Xop)\n",
    "\n",
    "     Y = np.zeros((M+1, N+1)) #Första värdet är tidssteget, andra är x-steget.\n",
    "     Y[0,:] = g0 #Sätter initialvärden\n",
    "\n",
    "     for i in range(M):\n",
    "          Y[i+1,:] = op@np.transpose(Y[i, :])\n",
    "          #Y[i+1,-1] = Y[i+1,0]\n",
    "     return Y, Xgrid, tgrid\n",
    "          \n"
   ]
  },
  {
   "cell_type": "code",
   "execution_count": null,
   "metadata": {},
   "outputs": [],
   "source": [
    "def pulse(x):\n",
    "    return x*np.exp(-100*(x-0.5)**2)"
   ]
  },
  {
   "cell_type": "code",
   "execution_count": null,
   "metadata": {},
   "outputs": [],
   "source": [
    "def plot3D(Y, Xgrid, tgrid):\n",
    "     T, X = np.meshgrid(np.transpose(tgrid), Xgrid)\n",
    "\n",
    "     # Create a 3D plot\n",
    "     fig = plt.figure(figsize=(10, 10)) \n",
    "     ax = fig.add_subplot(111, projection='3d')\n",
    "     ax.plot_surface(T, X, np.transpose(Y), rcount= 1000, ccount = 1000)\n",
    "\n",
    "     ax.set_xlabel('Time')\n",
    "     ax.set_ylabel('Space')\n",
    "     ax.set_zlabel('Value')\n",
    "\n",
    "     plt.show()"
   ]
  },
  {
   "cell_type": "code",
   "execution_count": null,
   "metadata": {},
   "outputs": [],
   "source": [
    "a = 2\n",
    "d = 0.1\n",
    "if d == 0:\n",
    "     Pe = math.inf\n",
    "else:\n",
    "    Pe = abs(a/d)\n",
    "print('Pe är: '+ str(Pe))\n",
    "N, M = 1000, 2000\n",
    "\n",
    "g0 = pulse(np.linspace(0, 1, N+1))\n",
    "\n",
    "Y, Xgrid, tgrid = Convdifsolve(g0, N, M, a, d)\n",
    "plot3D(Y, Xgrid, tgrid)\n"
   ]
  }
 ],
 "metadata": {
  "kernelspec": {
   "display_name": "base",
   "language": "python",
   "name": "python3"
  },
  "language_info": {
   "codemirror_mode": {
    "name": "ipython",
    "version": 3
   },
   "file_extension": ".py",
   "mimetype": "text/x-python",
   "name": "python",
   "nbconvert_exporter": "python",
   "pygments_lexer": "ipython3",
   "version": "3.12.1"
  }
 },
 "nbformat": 4,
 "nbformat_minor": 2
}
