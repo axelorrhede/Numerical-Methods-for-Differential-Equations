{
 "cells": [
  {
   "cell_type": "code",
   "execution_count": null,
   "metadata": {},
   "outputs": [],
   "source": [
    "import numpy as np\n",
    "import math\n",
    "import scipy.linalg as la\n",
    "import matplotlib.pyplot as plt\n",
    "import scipy\n",
    "from mpl_toolkits.mplot3d import Axes3D\n",
    "%matplotlib widget\n"
   ]
  },
  {
   "cell_type": "code",
   "execution_count": null,
   "metadata": {},
   "outputs": [],
   "source": [
    "def plot3D(Y, Xgrid, tgrid):\n",
    "     T, X = np.meshgrid(np.transpose(tgrid), Xgrid)\n",
    "\n",
    "     # Create a 3D plot\n",
    "     fig = plt.figure(figsize=(10, 10))  # You can adjust the size as needed\n",
    "     ax = fig.add_subplot(111, projection='3d')\n",
    "     ax.plot_surface(T, X, np.transpose(Y))\n",
    "\n",
    "     ax.set_xlabel('Time')\n",
    "     ax.set_ylabel('Space')\n",
    "     ax.set_zlabel('Value')\n",
    "\n",
    "     plt.show()"
   ]
  },
  {
   "cell_type": "code",
   "execution_count": null,
   "metadata": {},
   "outputs": [],
   "source": [
    "def pulse(x):\n",
    "    return np.exp(-100*(x-0.5)**2)"
   ]
  },
  {
   "cell_type": "markdown",
   "metadata": {},
   "source": [
    "\n",
    "\\begin{gather*}\n",
    "    u_{t}+uu_{x}=d\\cdot u_{xx}\\\\\n",
    "    u(t+\\Delta t,x)\\approx u(t,x)+\\Delta tu_{t}+\\frac{\\Delta t^{2}}{2!}u_{tt}\\\\\n",
    "    \\text{Invicid Burgers equation: }u_{t}=-uu_{x}\\\\\n",
    "    u_{tt}=-u_{t}u_{x}-uu_{xt}\\\\\n",
    "    u_{tx}=-u_{x}^{2}-uu_{xx}\\\\\n",
    "    u_{tt}=-uu_{x}^{2}-u(-u_{x}^{2}-uu_{xx})\\\\\n",
    "    u_{tt}=u^{2}u_{xx} \\\\\n",
    "\n",
    "    \\text{LW?: } u(t+\\Delta t,x)\\approx u(t,x)-\\Delta tuu_{x}+\\frac{\\Delta t^{2}}{2!}u^{2}u_{xx}\\\\\n",
    "\n",
    "\\end{gather*}\n"
   ]
  },
  {
   "cell_type": "code",
   "execution_count": null,
   "metadata": {},
   "outputs": [],
   "source": [
    "def LWsolver(g0, N, M, a, d):\n",
    "    deltaX = 1/N  # rumssteg från x0 till xN-1\n",
    "    dt = 1/M  # tidsteg från t0 till tN\n",
    "    Xgrid = np.linspace(0, 1, N+1)\n",
    "    tgrid = np.linspace(0, 1, M+1)\n",
    "\n",
    "    T = la.toeplitz([-2, 1] + [0] * (N-1)) ##Skapar en Toeplitz matris för disc av andraderivatan\n",
    "    T[-1,0] = 1\n",
    "    T[0,-1] = 1\n",
    "    T = T/deltaX**2\n",
    "    \n",
    "    Xop = d*T*dt/2\n",
    "    op = np.linalg.inv(np.eye(N+1)-Xop)@(np.eye(N+1)+Xop)\n",
    "\n",
    "    Y = np.zeros((M+1, N+1)) #Första värdet är tidssteget, andra är x-steget.\n",
    "    Y[0,:] = g0 #Sätter initialvärden\n",
    "    u = np.zeros_like(Y)\n",
    "    u[0,:] = g0\n",
    "    LW = np.zeros(N+1)\n",
    "\n",
    "    for n in range(M):\n",
    "        Y[n+1,:] = op@np.transpose(Y[n, :])\n",
    "        for j in range(N+1):\n",
    "            if j == N:\n",
    "                LW[j] = u[n,j] + (dt*u[n,j]*(u[n,0]-u[n,j-1])/(2*deltaX)) - (dt**2/(2*deltaX**2))*(u[n,0]-2*u[n,j]+u[n,j-1])*u[n,j]**2\n",
    "            else:\n",
    "                LW[j] = u[n,j] + (dt*u[n,j]*(u[n,j+1]-u[n,j-1])/(2*deltaX)) - (dt**2/(2*deltaX**2))*(u[n,j+1]-2*u[n,j]+u[n,j-1])*u[n,j]**2 #ingen matris\n",
    "        u[n+1,:] = np.linalg.inv(np.eye(N+1)-Xop)@np.transpose(LW) + Y[n+1,:]\n",
    "        #Y[i+1,-1] = Y[i+1,0]\n",
    "    return Y, Xgrid, tgrid"
   ]
  },
  {
   "cell_type": "code",
   "execution_count": null,
   "metadata": {},
   "outputs": [],
   "source": [
    "a = 1\n",
    "d = 0.1\n",
    "if d == 0:\n",
    "     Pe = math.inf\n",
    "else:\n",
    "    Pe = abs(a/d)\n",
    "print('Pe är: '+ str(Pe))\n",
    "N, M = 10, 10\n",
    "\n",
    "g0 = pulse(np.linspace(0, 1, N+1))\n",
    "\n",
    "Y, Xgrid, tgrid = LWsolver(g0, N, M, a, d)\n",
    "plot3D(Y, Xgrid, tgrid)\n"
   ]
  }
 ],
 "metadata": {
  "kernelspec": {
   "display_name": "Python 3",
   "language": "python",
   "name": "python3"
  },
  "language_info": {
   "codemirror_mode": {
    "name": "ipython",
    "version": 3
   },
   "file_extension": ".py",
   "mimetype": "text/x-python",
   "name": "python",
   "nbconvert_exporter": "python",
   "pygments_lexer": "ipython3",
   "version": "3.11.7"
  }
 },
 "nbformat": 4,
 "nbformat_minor": 2
}
