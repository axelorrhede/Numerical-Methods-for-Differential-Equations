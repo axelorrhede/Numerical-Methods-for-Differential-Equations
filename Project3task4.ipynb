{
 "cells": [
  {
   "cell_type": "code",
   "execution_count": null,
   "metadata": {},
   "outputs": [],
   "source": [
    "import numpy as np\n",
    "import math\n",
    "import scipy.linalg as la\n",
    "import matplotlib.pyplot as plt\n",
    "import scipy\n",
    "from mpl_toolkits.mplot3d import Axes3D\n",
    "# %matplotlib widget\n"
   ]
  },
  {
   "cell_type": "code",
   "execution_count": null,
   "metadata": {},
   "outputs": [],
   "source": [
    "def plot3D(Y, Xgrid, tgrid):\n",
    "     T, X = np.meshgrid(np.transpose(tgrid), Xgrid)\n",
    "\n",
    "     # Create a 3D plot\n",
    "     fig = plt.figure(figsize=(10, 10))  # You can adjust the size as needed\n",
    "     ax = fig.add_subplot(111, projection='3d')\n",
    "     ax.plot_surface(T, X, np.transpose(Y), rcount= 500, ccount = 500)\n",
    "\n",
    "     ax.set_xlabel('Time')\n",
    "     ax.set_ylabel('Space')\n",
    "     ax.set_zlabel('Value')\n",
    "\n",
    "     plt.show()"
   ]
  },
  {
   "cell_type": "code",
   "execution_count": null,
   "metadata": {},
   "outputs": [],
   "source": [
    "def pulse(x):\n",
    "    return 6*np.exp(-100*(x-0.5)**2)"
   ]
  },
  {
   "cell_type": "markdown",
   "metadata": {},
   "source": [
    "\n",
    "\\begin{gather*}\n",
    "u_{t}+uu_{x}=d\\cdot u_{xx}\\\\\n",
    "u(t+\\Delta t,x)\\approx u(t,x)+\\Delta tu_{t}+\\frac{\\Delta t^{2}}{2!}u_{tt}\\\\\n",
    "\\text{Invicid Borgir equation: }u_{t}=-uu_{x}\\\\\n",
    "u_{tt}=-u_{t}u_{x}-uu_{xt}\\\\\n",
    "u_{tx}=-u_{x}^{2}-uu_{xx}\\\\\n",
    "u_{tt}=-uu_{x}^{2}-u(-u_{x}^{2}-uu_{xx})\\\\\n",
    "u_{tt}=u^{2}u_{xx}\\\\\n",
    "u(t+\\Delta t,x)\\approx u-\\Delta tuu_{x}+\\frac{\\Delta t^{2}}{2!}u^{2}u_{xx}\\\\\n",
    "\\text{Using a symetric finite difference for derivitive approximation}\\\\\n",
    "u_{j}^{n+1}=u_{j}^{n}-\\Delta tu_{j}^{n}\\frac{u_{j+1}^{n}-u_{j-1}^{n}}{2\\Delta x}+\\frac{\\Delta t^{2}}{2!}\\left(u_{j}^{n}\\right)^{2}\\frac{u_{j+1}^{n}-2u_{j}^{n}+u_{j-1}^{n}}{\\Delta x^{2}}\\\\\n",
    "\\left\\{ \\mu=\\frac{\\Delta t}{\\Delta x}\\right\\} \\\\\n",
    "u_{j}^{n+1}=u_{j}^{n}-\\frac{\\mu}{2}u_{j}^{n}\\left(u_{j+1}^{n}-u_{j-1}^{n}\\right)+\\frac{\\mu^{2}}{2}\\left(u_{j}^{n}\\right)^{2}\\left(u_{j+1}^{n}-2u_{j}^{n}+u_{j-1}^{n}\\right)\n",
    "\\end{gather*}"
   ]
  },
  {
   "cell_type": "code",
   "execution_count": null,
   "metadata": {},
   "outputs": [],
   "source": [
    "def LWsolver(g0, N, M, d):\n",
    "    deltaX = 1/N  # rumssteg från x0 till xN-1\n",
    "    dt = 1/M  # tidsteg från t0 till tN\n",
    "    Xgrid = np.linspace(0, 1, N+1)\n",
    "    tgrid = np.linspace(0, 1, M+1)\n",
    "\n",
    "    T = la.toeplitz([-2, 1] + [0] * (N-1)) ##Skapar en Toeplitz matris för disc av andraderivatan spatiallt  \n",
    "    T[-1,0] = 1\n",
    "    T[0,-1] = 1\n",
    "    T = T/deltaX**2\n",
    "    \n",
    "    Xop = d*T*dt/2 \n",
    "    op = np.linalg.inv(np.eye(N+1)-Xop)@(np.eye(N+1)+Xop)  \n",
    "\n",
    "    Y = np.zeros((M+1, N+1)) #Första värdet är tidssteget, andra är x-steget.\n",
    "    Y[0,:] = g0 #Sätter initialvärden\n",
    "    u = np.zeros_like(Y)\n",
    "    u[0,:] = g0\n",
    "    LW = np.zeros(N+1)\n",
    "\n",
    "    for n in range(M):\n",
    "        Y[n+1,:] = op@np.transpose(Y[n, :])\n",
    "        for j in range(N+1):\n",
    "            if j == N:\n",
    "                LW[j] = u[n,j] + (dt*u[n,j]*(u[n,0]-u[n,j-1])/(2*deltaX)) - (dt**2/(2*deltaX**2))*(u[n,0]-2*u[n,j]+u[n,j-1])*u[n,j]**2\n",
    "            else:\n",
    "                LW[j] = u[n,j] + (dt*u[n,j]*(u[n,j+1]-u[n,j-1])/(2*deltaX)) - (dt**2/(2*deltaX**2))*(u[n,j+1]-2*u[n,j]+u[n,j-1])*u[n,j]**2 #ingen matris\n",
    "        u[n+1,:] = np.linalg.inv(np.eye(N+1)-Xop)@np.transpose(LW) + Y[n+1,:]\n",
    "        #Y[i+1,-1] = Y[i+1,0]\n",
    "    return Y, Xgrid, tgrid"
   ]
  },
  {
   "cell_type": "code",
   "execution_count": null,
   "metadata": {},
   "outputs": [],
   "source": [
    "def LW(U, dt, dx):\n",
    "    unew = np.zeros_like(U)\n",
    "    N = len(U)\n",
    "    for n in range(N):\n",
    "        S = (U[(n+1)%N] - U[n-1])*(dt/(dx*2))   # Modulus för när vi går out-of-bounds \n",
    "        T = (U[(n+1)%N] - 2*U[n] + U[n-1])*(dt**2)/(2*dx**2)\n",
    "           \n",
    "        unew[n] = U[n] - U[n]*S + (U[n]**2)*T  \n",
    "    \n",
    "    return unew "
   ]
  },
  {
   "cell_type": "code",
   "execution_count": null,
   "metadata": {},
   "outputs": [],
   "source": [
    "def LWsolver2(g0, N, M, d):\n",
    "    deltaX = 1/N  # rumssteg från x0 till xN-1\n",
    "    dt = 1/M  # tidsteg från t0 till tN\n",
    "    Xgrid = np.linspace(0, 1, N+1)\n",
    "    tgrid = np.linspace(0, 1, M)\n",
    "    T = la.toeplitz([-2, 1] + [0] * (N-1)) ##Skapar en Toeplitz matris för disc av andraderivatan spatiallt  \n",
    "    T[-1,0] = 1\n",
    "    T[0,-1] = 1\n",
    "    T = T/deltaX**2\n",
    "    inv = np.linalg.inv(np.eye(N+1) - dt/2 * d * T)\n",
    "    \n",
    "    U = np.zeros((M,N+1))\n",
    "\n",
    "    U[0,:] = g0\n",
    "    for i in range(M-1):\n",
    "        U[i+1,:] = inv@(LW(U[i,:],dt,deltaX).T + dt/2 * d * T@(U[i,:].T))\n",
    "\n",
    "    #print(U)\n",
    "    return U, Xgrid, tgrid\n",
    "                \n"
   ]
  },
  {
   "cell_type": "markdown",
   "metadata": {},
   "source": [
    "We can see shock behavior for d = 0.01 N = 300 and M = 10000. Input amplitude is 6"
   ]
  },
  {
   "cell_type": "code",
   "execution_count": null,
   "metadata": {},
   "outputs": [],
   "source": [
    "d = 0.01\n",
    "N, M = 300, 1000\n",
    "\n",
    "g0 = pulse(np.linspace(0, 1, N+1))\n",
    "\n",
    "Y, Xgrid, tgrid = LWsolver2(g0, N, M, d)"
   ]
  },
  {
   "cell_type": "code",
   "execution_count": null,
   "metadata": {},
   "outputs": [],
   "source": [
    "plot3D(Y, Xgrid, tgrid)\n",
    "\n",
    "\n",
    "# Here we plot a show of the shock phenomena as it moves forward in time\n",
    "a = 22\n",
    "o = 3\n",
    "for i in range(20):\n",
    "\n",
    "    plt.figure()\n",
    "    plt.plot(Xgrid, Y[a + o * i, :])\n",
    "print(np.min(Y))\n",
    "print(np.where(Y== np.min(Y)))\n",
    "RMS = np.zeros(M)\n",
    "print(Y.shape)\n",
    "print(Xgrid.shape)\n",
    "print(tgrid.shape)\n",
    "for i in range(M):\n",
    "    RMS[i] = la.norm(Y[i,:])\n",
    "\n",
    "plt.figure()\n",
    "plt.plot(tgrid, RMS)\n"
   ]
  }
 ],
 "metadata": {
  "kernelspec": {
   "display_name": "Python 3",
   "language": "python",
   "name": "python3"
  },
  "language_info": {
   "codemirror_mode": {
    "name": "ipython",
    "version": 3
   },
   "file_extension": ".py",
   "mimetype": "text/x-python",
   "name": "python",
   "nbconvert_exporter": "python",
   "pygments_lexer": "ipython3",
   "version": "3.12.1"
  }
 },
 "nbformat": 4,
 "nbformat_minor": 2
}
