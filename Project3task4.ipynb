{
 "cells": [
  {
   "cell_type": "code",
   "execution_count": null,
   "metadata": {},
   "outputs": [],
   "source": []
  },
  {
   "cell_type": "markdown",
   "metadata": {},
   "source": [
    "\n",
    "\\begin{gather*}\n",
    "u_{t}+uu_{x}=d\\cdot u_{xx}\\\\\n",
    "u(t+\\Delta t,x)\\approx u(t,x)+\\Delta tu_{t}+\\frac{\\Delta t^{2}}{2!}u_{tt}\\\\\n",
    "\\text{Invicid Burgers equation: }u_{t}=-uu_{x}\\\\\n",
    "u_{tt}=-u_{t}u_{x}-uu_{xt}\\\\\n",
    "u_{tx}=-u_{x}^{2}-uu_{xx}\\\\\n",
    "u_{tt}=-uu_{x}^{2}-u(-u_{x}^{2}-uu_{xx})\\\\\n",
    "u_{tt}=u^{2}u_{xx}\\\\\n",
    "u(t+\\Delta t,x)\\approx u-\\Delta tuu_{x}+\\frac{\\Delta t^{2}}{2!}u^{2}u_{xx}\\\\\n",
    "\\text{Using a symetric finite difference for derivitive approximation}\\\\\n",
    "u_{j}^{n+1}=u_{j}^{n}-\\Delta tu_{j}^{n}\\frac{u_{j+1}^{n}-u_{j-1}^{n}}{2\\Delta x}+\\frac{\\Delta t^{2}}{2!}\\left(u_{j}^{n}\\right)^{2}\\frac{u_{j+1}^{n}-2u_{j}^{n}+u_{j-1}^{n}}{\\Delta x^{2}}\\\\\n",
    "\\left\\{ \\mu=\\frac{\\Delta t}{\\Delta x}\\right\\} \\\\\n",
    "u_{j}^{n+1}=u_{j}^{n}-\\frac{\\mu}{2}u_{j}^{n}\\left(u_{j+1}^{n}-u_{j-1}^{n}\\right)+\\frac{\\mu^{2}}{2}\\left(u_{j}^{n}\\right)^{2}\\left(u_{j+1}^{n}-2u_{j}^{n}+u_{j-1}^{n}\\right)\n",
    "\\end{gather*}"
   ]
  },
  {
   "cell_type": "markdown",
   "metadata": {},
   "source": []
  }
 ],
 "metadata": {
  "kernelspec": {
   "display_name": "Python 3",
   "language": "python",
   "name": "python3"
  },
  "language_info": {
   "codemirror_mode": {
    "name": "ipython",
    "version": 3
   },
   "file_extension": ".py",
   "mimetype": "text/x-python",
   "name": "python",
   "nbconvert_exporter": "python",
   "pygments_lexer": "ipython3",
   "version": "3.12.0"
  }
 },
 "nbformat": 4,
 "nbformat_minor": 2
}
