{
 "cells": [
  {
   "cell_type": "code",
   "execution_count": null,
   "metadata": {},
   "outputs": [],
   "source": [
    "import numpy as np\n",
    "import math\n",
    "import scipy.linalg as la\n",
    "import matplotlib.pyplot as plt"
   ]
  },
  {
   "cell_type": "code",
   "execution_count": null,
   "metadata": {},
   "outputs": [],
   "source": [
    "def RK34step(f, told, Yold, h):\n",
    "    Y1 = f(told, Yold)\n",
    "    Y2 = f(told + h/2, Yold + h/2*Y1)\n",
    "    Y3 = f(told + h/2, Yold + h/2*Y2)\n",
    "    Z3 = f(told + h, Yold - h*Y1 + 2*h*Y2)\n",
    "    Y4 = f(told + h, Yold + h*Y3)\n",
    "    Ynew = Yold + h/6*(Y1 + 2*Y2 + 2*Y3 + Y4)\n",
    "\n",
    "    err = np.abs(h/6*(2*Y2+Z3-2*Y3-Y4))\n",
    "    return Ynew, err\n",
    "\n",
    "def newstep (tol, err, errold, hold, k):\n",
    "    hnew = hold * np.power(tol/max(err), 2/(3*k))*np.power(tol/max(errold), -1/(3*k))\n",
    "    return hnew\n",
    "    \n",
    "def adaptiveRK34(f, t0, tf, y0, tol):\n",
    "    k = 4\n",
    "    h = (tf-t0)*np.power(tol,1/4)/(1000*(1+la.norm(f(t0,y0))))\n",
    "    t = [t0]\n",
    "    Y = [y0]\n",
    "    ERR = [np.zeros_like(y0)]\n",
    "    y, err = RK34step(f, t[-1], y0, h)\n",
    "    Y.append(y)\n",
    "    ERR.append(err)\n",
    "    h = newstep(tol, ERR[-1], np.array([tol, tol]), h, k)\n",
    "    t.append(t[-1] + h)\n",
    "\n",
    "    while t[-1] + h < tf:\n",
    "        y, err = RK34step(f, t[-1], Y[-1], h)\n",
    "        Y.append(y)\n",
    "        ERR.append(err)\n",
    "        h = newstep(tol, ERR[-1], ERR[-2], h, k)\n",
    "        t.append(t[-1] + h)\n",
    "\n",
    "    y, err = RK34step(f, t[-1], Y[-1], tf-t[-1])\n",
    "    t.append(tf)\n",
    "    Y.append(y)\n",
    "    ERR.append(err)\n",
    "    return t, Y, ERR\n"
   ]
  },
  {
   "cell_type": "code",
   "execution_count": null,
   "metadata": {},
   "outputs": [],
   "source": [
    "def VanDerPol(t,u):\n",
    "    return np.array([u[1], mu*(1-u[0]**2)*u[1]-u[0]])"
   ]
  },
  {
   "cell_type": "code",
   "execution_count": null,
   "metadata": {},
   "outputs": [],
   "source": [
    "mus = [10, 15, 22, 33, 47, 68, 100, 150, 220, 330, 470, 680, 1000]\n",
    "steps = []\n",
    "for mu in mus:\n",
    "    t, Y, ERR = adaptiveRK34(VanDerPol, 0, 0.7*mu, np.array([2,0]), 1e-6)\n",
    "    steps.append(len(t))\n",
    "    x = [Yx[0] for Yx in Y]\n",
    "    y = [Yy[1] for Yy in Y]\n",
    "    plt.plot(t, y)\n",
    "    plt.show()\n",
    "    #plt.plot(x,y)\n"
   ]
  },
  {
   "cell_type": "code",
   "execution_count": null,
   "metadata": {},
   "outputs": [],
   "source": [
    "print(steps)\n",
    "plt.loglog(mus, steps)"
   ]
  },
  {
   "cell_type": "code",
   "execution_count": null,
   "metadata": {},
   "outputs": [],
   "source": [
    "from scipy.integrate import solve_ivp\n",
    "steps = []\n",
    "\n",
    "for mu in mus:\n",
    "    solution = solve_ivp(VanDerPol, [0, 0.7*mu], np.array([2,0]), tol=1e-6, method='BDF')\n",
    "    steps.append(len(solution.t))\n",
    "print(steps)\n",
    "plt.loglog(mus, steps)\n",
    "plt.show()\n",
    "x = [Yx[0] for Yx in Y]\n",
    "y = [Yy[1] for Yy in Y]\n",
    "plt.plot(solution.t, solution.y[1])\n",
    "plt.show()\n"
   ]
  }
 ],
 "metadata": {
  "kernelspec": {
   "display_name": "Python 3",
   "language": "python",
   "name": "python3"
  },
  "language_info": {
   "codemirror_mode": {
    "name": "ipython",
    "version": 3
   },
   "file_extension": ".py",
   "mimetype": "text/x-python",
   "name": "python",
   "nbconvert_exporter": "python",
   "pygments_lexer": "ipython3",
   "version": "3.11.6"
  },
  "orig_nbformat": 4
 },
 "nbformat": 4,
 "nbformat_minor": 2
}
