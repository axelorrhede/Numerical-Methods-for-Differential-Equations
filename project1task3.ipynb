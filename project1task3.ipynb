{
 "cells": [
  {
   "cell_type": "code",
   "execution_count": null,
   "metadata": {},
   "outputs": [],
   "source": [
    "import numpy as np\n",
    "import math\n",
    "import scipy.linalg as la\n",
    "import matplotlib.pyplot as plt"
   ]
  },
  {
   "cell_type": "code",
   "execution_count": null,
   "metadata": {},
   "outputs": [],
   "source": [
    "def RK34step(f, told, Yold, h):\n",
    "    Y1 = f(told, Yold)\n",
    "    Y2 = f(told + h/2, Yold + h/2*Y1)\n",
    "    Y3 = f(told + h/2, Yold + h/2*Y2)\n",
    "    Z3 = f(told + h, Yold - h*Y1 + 2*h*Y2)\n",
    "    Y4 = f(told + h, Yold + h*Y3)\n",
    "    Ynew = Yold + h/6*(Y1 + 2*Y2 + 2*Y3 + Y4)\n",
    "\n",
    "    err = np.abs(h/6*(2*Y2+Z3-2*Y3-Y4))\n",
    "    return Ynew, err\n",
    "\n",
    "def newstep (tol, err, errold, hold, k):\n",
    "    hnew = hold * np.power(tol/max(err), 2/(3*k))*np.power(tol/max(errold), -1/(3*k))\n",
    "    return hnew\n",
    "    \n",
    "def adaptiveRK34(f, t0, tf, y0, tol):\n",
    "    k = 4\n",
    "    h = (tf-t0)*np.power(tol,1/4)/(1000*(1+la.norm(f(t0,y0))))\n",
    "    t = [t0]\n",
    "    Y = [y0]\n",
    "    ERR = [np.zeros_like(y0)]\n",
    "    y, err = RK34step(f, t[-1], y0, h)\n",
    "    Y.append(y)\n",
    "    ERR.append(err)\n",
    "    t.append(t[-1] + h)\n",
    "    h = newstep(tol, ERR[-1], np.array([tol, tol]), h, k)\n",
    "\n",
    "\n",
    "    while t[-1] + h < tf:\n",
    "        y, err = RK34step(f, t[-1], Y[-1], h)\n",
    "        Y.append(y)\n",
    "        ERR.append(err)\n",
    "        t.append(t[-1] + h)\n",
    "        h = newstep(tol, ERR[-1], ERR[-2], h, k)\n",
    "    \n",
    "\n",
    "    y, err = RK34step(f, t[-1], Y[-1], tf-t[-1])\n",
    "    t.append(tf)\n",
    "    Y.append(y)\n",
    "    ERR.append(err)\n",
    "    return t, Y, ERR\n"
   ]
  },
  {
   "cell_type": "code",
   "execution_count": null,
   "metadata": {},
   "outputs": [],
   "source": [
    "def VanDerPol(t,u):\n",
    "    return np.array([u[1], mu*(1-u[0]**2)*u[1]-u[0]])"
   ]
  },
  {
   "cell_type": "markdown",
   "metadata": {},
   "source": [
    "### Task 3.1"
   ]
  },
  {
   "cell_type": "code",
   "execution_count": null,
   "metadata": {},
   "outputs": [],
   "source": [
    "mu = 100\n",
    "t, Y, ERR = adaptiveRK34(VanDerPol, 0, 2*mu, np.array([2,0]), 1e-6)\n",
    "x = [Yx[0] for Yx in Y]\n",
    "y = [Yy[1] for Yy in Y]\n",
    "plt.grid()\n",
    "plt.title(\"Y1 plotted versus time\")\n",
    "plt.plot(t, y)\n",
    "plt.show()\n",
    "plt.grid()\n",
    "plt.title(\"Investigation of periodicity\") # Ett problem är stiff om alla termerna är chill, I grafen nedan kan vi se ett typisk o chill beteende på två ställen \n",
    "plt.plot(x,y)\n",
    "plt.show()"
   ]
  },
  {
   "cell_type": "markdown",
   "metadata": {},
   "source": [
    "## Task 3.2"
   ]
  },
  {
   "cell_type": "code",
   "execution_count": null,
   "metadata": {},
   "outputs": [],
   "source": [
    "mus = [10, 15, 22, 33, 47, 68, 100, 150, 220, 330, 470, 680, 1000] #Olika värden på my. \n",
    "steps = []\n",
    "for mu in mus:\n",
    "    t, Y, ERR = adaptiveRK34(VanDerPol, 0, 0.7*mu, np.array([2,0]), 1e-6)\n",
    "    steps.append(len(t))\n",
    "    x = [Yx[0] for Yx in Y]\n",
    "    y = [Yy[1] for Yy in Y]\n",
    "    plt.plot(t, y)\n",
    "    plt.grid()\n",
    "    plt.title(\"μ was equal to \" + str(mu))\n",
    "    plt.xlabel(\"Time\")\n",
    "    plt.ylabel(\"y2\")\n",
    "    plt.show()"
   ]
  },
  {
   "cell_type": "code",
   "execution_count": null,
   "metadata": {},
   "outputs": [],
   "source": [
    "plt.grid()\n",
    "plt.title(\"Steps needed for different values on μ\")\n",
    "print(steps)\n",
    "plt.loglog(mus, steps)"
   ]
  },
  {
   "cell_type": "markdown",
   "metadata": {},
   "source": [
    "## Task 3.3"
   ]
  },
  {
   "cell_type": "code",
   "execution_count": null,
   "metadata": {},
   "outputs": [],
   "source": [
    "from scipy.integrate import solve_ivp\n",
    "steps = []\n",
    "\n",
    "for mu in mus:\n",
    "    solution = solve_ivp(VanDerPol, [0, 0.7*mu], np.array([2,0]), atol=1e-6, method='BDF')  \n",
    "    steps.append(len(solution.t))\n",
    "    # plt.plot(solution.t, solution.y[1])\n",
    "    # plt.title(\"μ was equal to \" + str(mu))\n",
    "    # plt.xlabel(\"Time\")\n",
    "    # plt.ylabel(\"y2\")\n",
    "    # plt.grid()\n",
    "    # plt.show()\n",
    "\n",
    "plt.grid()\n",
    "plt.title(\"μ versus steps\")\n",
    "plt.xlabel(\"Tested μ\")\n",
    "plt.ylabel(\"Amount of steps needed\")\n",
    "plt.loglog(mus, steps)\n",
    "plt.show()\n",
    "print(steps)\n"
   ]
  },
  {
   "cell_type": "code",
   "execution_count": null,
   "metadata": {},
   "outputs": [],
   "source": [
    "mu = 10000\n",
    "solution = solve_ivp(VanDerPol, [0, 0.7*mu], np.array([2,0]), atol=1e-6, method='BDF')  ##Ändrade till atol = absolut tolerance\n",
    "steps.append(len(solution.t))\n",
    "plt.plot(solution.t, solution.y[1])\n",
    "plt.title(\"μ was equal to \" + str(mu))\n",
    "plt.xlabel(\"Time\")\n",
    "plt.ylabel(\"y2\")\n",
    "plt.grid()\n",
    "plt.show() #Aslätt, vi har ju bara problem på 2 ställen, och då kan denna metod minska h jättemycket där, och sedan öka den igen."
   ]
  }
 ],
 "metadata": {
  "kernelspec": {
   "display_name": "Python 3",
   "language": "python",
   "name": "python3"
  },
  "language_info": {
   "codemirror_mode": {
    "name": "ipython",
    "version": 3
   },
   "file_extension": ".py",
   "mimetype": "text/x-python",
   "name": "python",
   "nbconvert_exporter": "python",
   "pygments_lexer": "ipython3",
   "version": "3.11.6"
  },
  "orig_nbformat": 4
 },
 "nbformat": 4,
 "nbformat_minor": 2
}
