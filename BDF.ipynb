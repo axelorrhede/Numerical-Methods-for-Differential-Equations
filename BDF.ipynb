{
 "cells": [
  {
   "cell_type": "code",
   "execution_count": null,
   "metadata": {},
   "outputs": [],
   "source": [
    "import numpy as np\n",
    "import math\n",
    "import scipy.linalg as la\n",
    "import matplotlib.pyplot as plt\n",
    "import scipy"
   ]
  },
  {
   "cell_type": "code",
   "execution_count": null,
   "metadata": {},
   "outputs": [],
   "source": [
    "def RK4step(f,told, uold, h): # Denna klassen skrivs just nu där f = skalär*y. \n",
    "    Y1 = f(uold)    #Y1 definieras som f(uold,told).\n",
    "    Y2 = f(uold + h*Y1/2)\n",
    "    Y3 = f(uold + h*Y2/2)\n",
    "    Y4 = f(uold + h*Y3)\n",
    "    unew = uold + (h/6)*(Y1 + 2*Y2 + 2*Y3 + Y4)\n",
    "\n",
    "    return unew\n"
   ]
  },
  {
   "cell_type": "code",
   "execution_count": null,
   "metadata": {},
   "outputs": [],
   "source": [
    "def BDFstep(f, Yn, Yn1, h):\n",
    "    func  = lambda Yn2: Yn2 - 4/3*Yn1 + 1/3*Yn - 3*h*f(Yn2)/2\n",
    "    Yn2 = scipy.optimize.fsolve(func, Yn1)\n",
    "    return Yn2[-1]\n",
    "    \n",
    "def BDFsolver(f, t0, tf, N, y0, tol):\n",
    "    h = (tf - t0)/N\n",
    "    t = [t0]\n",
    "    Y = [y0]\n",
    "    Yn = y0\n",
    "    Yn1 = RK4step(f, t0, Yn, h)\n",
    "    Y.append(Yn1)\n",
    "    t.append(t[-1] + h)\n",
    "    for i in range(N-2):\n",
    "        y = BDFstep(f, Yn, Yn1, h)\n",
    "        Y.append(y)\n",
    "        Yn = Yn1\n",
    "        Yn1 = y\n",
    "        t.append(t[-1] + h)\n",
    "    return Y\n"
   ]
  },
  {
   "cell_type": "code",
   "execution_count": null,
   "metadata": {},
   "outputs": [],
   "source": [
    "y0 = 1\n",
    "f = lambda y: -1.05*y\n",
    "Y = BDFsolver(f, 0, 10, 1000, y0, 1e-6)\n",
    "t = np.linspace(0, 10, 1000)\n",
    "plt.xlabel(\"The time\")\n",
    "plt.ylabel(\"Functionvalue\")\n",
    "plt.title(\"Our solution to the ODE\")\n",
    "plt.grid()\n",
    "print(\"Y: \", Y)\n",
    "plt.plot(t, Y, 'b')\n",
    "print(\"Amount of steps: \", len(t))\n"
   ]
  }
 ],
 "metadata": {
  "kernelspec": {
   "display_name": "Python 3",
   "language": "python",
   "name": "python3"
  },
  "language_info": {
   "codemirror_mode": {
    "name": "ipython",
    "version": 3
   },
   "file_extension": ".py",
   "mimetype": "text/x-python",
   "name": "python",
   "nbconvert_exporter": "python",
   "pygments_lexer": "ipython3",
   "version": "3.11.6"
  },
  "orig_nbformat": 4
 },
 "nbformat": 4,
 "nbformat_minor": 2
}
