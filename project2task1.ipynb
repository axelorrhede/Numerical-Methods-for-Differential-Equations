{
 "cells": [
  {
   "cell_type": "code",
   "execution_count": null,
   "metadata": {},
   "outputs": [],
   "source": [
    "import numpy as np\n",
    "import math\n",
    "import scipy.linalg as la\n",
    "import matplotlib.pyplot as plt"
   ]
  },
  {
   "cell_type": "code",
   "execution_count": null,
   "metadata": {},
   "outputs": [],
   "source": [
    "def f0(x):\n",
    "    return 1\n",
    "\n",
    "def los0(x,alpha,beta,L):\n",
    "    return (x**2)/2 + (beta - alpha - (L**2)/2)*x/L + alpha"
   ]
  },
  {
   "cell_type": "code",
   "execution_count": null,
   "metadata": {},
   "outputs": [],
   "source": [
    "def f1(x):\n",
    "    return x\n",
    "\n",
    "def los1(x,alpha,beta,L):\n",
    "    return (x**3)/6 + (beta - alpha - (L**3)/6)*x/L + alpha"
   ]
  },
  {
   "cell_type": "code",
   "execution_count": null,
   "metadata": {},
   "outputs": [],
   "source": [
    "def f2(x): #Här skapar vi en testfunktion \n",
    "    return x**2\n",
    "\n",
    "def los2(x,alpha,beta,L): #Här definierar vi den exakta lösningen till ovanstående testfunktion\n",
    "    return (x**4)/12 + (beta - alpha - (L**4)/12)*x/L + alpha\n"
   ]
  },
  {
   "cell_type": "code",
   "execution_count": null,
   "metadata": {},
   "outputs": [],
   "source": [
    "def twopBVP(fvec, alpha, beta, L, N):\n",
    "    deltaX = L/(N+1)\n",
    "    T = np.eye(N)*(-2) \n",
    "    for i in range(N-1): #Denna for loopen  skapar T-matrisen. Kan skrivas mer effektivt. \n",
    "        T[i+1,i] = 1\n",
    "        T[i, i+1] = 1\n",
    "    T = T/(deltaX**2)\n",
    "    y = np.linalg.inv(T)@fvec\n",
    "    y = np.insert(y, 0, alpha)\n",
    "    y = np.append(y,beta)\n",
    "    \n",
    "    return  y #Detta löser ekvationen och spottar ut en vektor innehållande y(i). \n",
    "\n",
    "def fvecgen(f,alpha, beta, L, N): #Tanken är att denna ska generera högerledet som man sedan stoppar in i twopBVP för att lösa. \n",
    "    deltaX = L/(N+1)\n",
    "    fvec = np.zeros((N,1))\n",
    "    Xvec = np.linspace(deltaX,L-deltaX,N)\n",
    "    for i in range(len(Xvec)):  #Fyller fvec med funktionsvärdena F(x1) till F(xN-1)\n",
    "        fvec[i] = f(Xvec[i])\n",
    "    fvec[0] = -alpha/(deltaX**2) + fvec[0] #Första och sista elementet i fvec fixar vi manuellt. \n",
    "    fvec[-1] = -beta/(deltaX**2) + fvec[-1]\n",
    "    Xvec = np.insert(Xvec, 0, 0)\n",
    "    Xvec = np.append(Xvec,L)\n",
    "    return fvec, Xvec\n",
    "\n",
    "    \n",
    "    "
   ]
  },
  {
   "cell_type": "code",
   "execution_count": null,
   "metadata": {},
   "outputs": [],
   "source": [
    "f = f2\n",
    "alpha = 4\n",
    "beta = -100\n",
    "N = 100\n",
    "L = 10\n",
    "fvec, Xvec = fvecgen(f, alpha, beta, L, N)\n",
    "y = twopBVP(fvec, alpha, beta, L, N)\n",
    "\n",
    "plt.plot(Xvec, y)\n",
    "plt.plot(Xvec, los2(Xvec,alpha,beta,L), '--')\n"
   ]
  },
  {
   "cell_type": "code",
   "execution_count": null,
   "metadata": {},
   "outputs": [],
   "source": [
    "f = f2\n",
    "Nvec = np.linspace(3,12,10).astype(int)\n",
    "Nvec = 2**Nvec\n",
    "errorvec = []\n",
    "hvec = []\n",
    "for N in Nvec:\n",
    "    fvec, Xvec = fvecgen(f, alpha, beta, L, N)\n",
    "    y = twopBVP(fvec, alpha, beta, L, N)\n",
    "    errorvec.append(np.mean(y - los2(Xvec,alpha,beta,L)))\n",
    "    hvec.append(L/(N+2))\n",
    "\n",
    "plt.figure()\n",
    "print(errorvec)\n",
    "plt.loglog(hvec, errorvec)\n",
    "plt.plot(hvec, errorvec[0]*Nvec[0]**2*1/Nvec**2, '--')\n",
    "plt.xlabel('h')\n",
    "plt.ylabel('Error')\n",
    "plt.legend(['Error', 'h^2'])\n",
    "plt.title('Proving that the error is O(h^2)')\n"
   ]
  },
  {
   "cell_type": "code",
   "execution_count": null,
   "metadata": {},
   "outputs": [],
   "source": [
    "def I(x):\n",
    "    return 1e-3*(3-2*np.cos(np.pi*x/L)**12)\n",
    "def q(x):\n",
    "    return -50\n"
   ]
  },
  {
   "cell_type": "code",
   "execution_count": null,
   "metadata": {},
   "outputs": [],
   "source": [
    "E = 1.9e+11\n",
    "N = 999\n",
    "L = 10\n",
    "alpha = 0\n",
    "beta = 0\n",
    "f = q\n",
    "fvec, Xvec = fvecgen(f, alpha, beta, L, N)\n",
    "Mvec = twopBVP(fvec, alpha, beta, L, N)\n",
    "for i in range(len(Mvec)-1):\n",
    "    fvec[+1] = Mvec[i+1]*I(Xvec[i+1])\n",
    "y = twopBVP(fvec, alpha, beta, L, N)\n",
    "plt.figure()\n",
    "plt.plot(Xvec, y)\n",
    "print('Värdet i mittpunkten är: '+ str(y[500]))\n",
    "\n"
   ]
  }
 ],
 "metadata": {
  "kernelspec": {
   "display_name": "base",
   "language": "python",
   "name": "python3"
  },
  "language_info": {
   "codemirror_mode": {
    "name": "ipython",
    "version": 3
   },
   "file_extension": ".py",
   "mimetype": "text/x-python",
   "name": "python",
   "nbconvert_exporter": "python",
   "pygments_lexer": "ipython3",
   "version": "3.11.6"
  }
 },
 "nbformat": 4,
 "nbformat_minor": 2
}
