{
 "cells": [
  {
   "cell_type": "code",
   "execution_count": 1,
   "metadata": {},
   "outputs": [],
   "source": [
    "import numpy as np\n",
    "import math\n",
    "import scipy.linalg as la\n",
    "import matplotlib.pyplot as plt"
   ]
  },
  {
   "cell_type": "code",
   "execution_count": 62,
   "metadata": {},
   "outputs": [],
   "source": [
    "def f(x): #Här skapar vi en testfunktion \n",
    "    return x**2\n",
    "\n",
    "def los(x,alpha,beta,L): #Här definierar vi den exakta lösningen till ovanstående testfunktion\n",
    "    return (x**4)/12 + (beta - alpha - (L**4)/12)*x/L + alpha\n"
   ]
  },
  {
   "cell_type": "code",
   "execution_count": 58,
   "metadata": {},
   "outputs": [],
   "source": [
    "def twopBVP(fvec, alpha, beta, L, N):\n",
    "    deltaX = L/(N+1)\n",
    "    T = np.eye(N)*2 \n",
    "    for i in range(N-1): #Denna for loopen  skapar T-matrisen. Kan skrivas mer effektivt. \n",
    "        T[i+1,i] = -1\n",
    "        T[i, i+1] = -1\n",
    "\n",
    "    return np.linalg.inv(T)*(deltaX)**2*fvec #Detta löser ekvationen och spottar ut en vektor innehållande y(i). \n",
    "\n",
    "def fvecgen(f,alpha, beta, L, N): #Tanken är att denna ska generera högerledet som man sedan stoppar in i twopBVP för att lösa. \n",
    "    deltaX = L/(N+1)\n",
    "    fvec = np.zeros((N+1), 1)\n",
    "    grid = np.zeros((N,1))\n",
    "    \n",
    "    for i in range(N): #Skapar en grid med N st x-värden. \n",
    "        grid[i] = i*deltaX\n",
    "\n",
    "\n",
    "    fvec[0] = -alpha/(deltaX)**2 + f(grid[0]) #Första och sista elementet i fvec fixar vi manuellt. \n",
    "    fvec[N] = -beta/(deltaX)**2 + f(grid[-1])\n",
    "\n",
    "    for i in range(N-2):  #Fyller fvec med funktionsvärdena F(x1) till F(xN-1)\n",
    "        fvec[i+1] = f(grid[i+1])\n",
    "\n",
    "#Vi behöver skriva lite kod här för att beräkna felet. \n",
    "\n",
    "    return twopBVP(fvec,alpha,beta, L,N), grid #Spottar ut grid för att plotta sen \n",
    "\n",
    "    \n",
    "    "
   ]
  },
  {
   "cell_type": "code",
   "execution_count": 59,
   "metadata": {},
   "outputs": [
    {
     "name": "stdout",
     "output_type": "stream",
     "text": [
      "9\n"
     ]
    }
   ],
   "source": []
  }
 ],
 "metadata": {
  "kernelspec": {
   "display_name": "base",
   "language": "python",
   "name": "python3"
  },
  "language_info": {
   "codemirror_mode": {
    "name": "ipython",
    "version": 3
   },
   "file_extension": ".py",
   "mimetype": "text/x-python",
   "name": "python",
   "nbconvert_exporter": "python",
   "pygments_lexer": "ipython3",
   "version": "3.9.13"
  }
 },
 "nbformat": 4,
 "nbformat_minor": 2
}
