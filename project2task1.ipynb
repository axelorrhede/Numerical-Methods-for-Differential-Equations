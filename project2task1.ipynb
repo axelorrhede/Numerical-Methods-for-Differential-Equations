{
 "cells": [
  {
   "cell_type": "code",
   "execution_count": 4,
   "metadata": {},
   "outputs": [],
   "source": [
    "import numpy as np\n",
    "import scipy.linalg as la\n",
    "import matplotlib.pyplot as plt"
   ]
  },
  {
   "cell_type": "code",
   "execution_count": 5,
   "metadata": {},
   "outputs": [],
   "source": [
    "def f2(x): #Här skapar vi en testfunktion \n",
    "    return x**2\n",
    "\n",
    "def los2(x,alpha,beta,L): #Här definierar vi den exakta lösningen till ovanstående testfunktion\n",
    "    return (x**4)/12 + (beta - alpha - (L**4)/12)*x/L + alpha\n"

   ]
  },
  {
   "cell_type": "code",
   "execution_count": null,

   "metadata": {},
   "outputs": [],
   "source": [
    "def twopBVP(fvec, alpha, beta, L, N):\n",
    "    deltaX = L/(N+1)\n",
    "    T = np.eye(N)*(-2) \n",
    "    for i in range(N-1): #Denna for loopen  skapar T-matrisen. Kan skrivas mer effektivt. \n",
    "        T[i+1,i] = 1\n",
    "        T[i, i+1] = 1\n",
    "    T = T/(deltaX**2)\n",
    "    y = np.linalg.inv(T)@fvec\n",
    "    y = np.insert(y, 0, alpha)\n",
    "    y = np.append(y,beta)\n",
    "    \n",
    "    return  y #Detta löser ekvationen och spottar ut en vektor innehållande y(i). \n",

    "\n",
    "def solve(f,alpha, beta, L, N): #Tanken är att denna ska generera högerledet som man sedan stoppar in i twopBVP för att lösa. \n",
    "    deltaX = L/(N+1)\n",
    "\n",
    "    Xvec = np.linspace(0,L,N+2)\n",
    "    fvec = f(Xvec[1:N+1]) #Fyller fvec med funktionsvärdena F(x1) till F(xN-1)\n",
    "    \n",
    "    fvec[0] += -alpha/(deltaX**2) #Första och sista elementet i fvec fixar vi manuellt. \n",
    "    fvec[-1] += -beta/(deltaX**2)\n",
    "\n",
    "    return fvec, Xvec\n",

    "\n",
    "    \n"
   ]
  },
  {
   "cell_type": "code",
   "execution_count": 10,
   "metadata": {},
   "outputs": [
    {
     "data": {
      "text/plain": [
       "[<matplotlib.lines.Line2D at 0x1e78006a4c0>]"
      ]
     },
     "execution_count": 10,
     "metadata": {},
     "output_type": "execute_result"
    },
    {
     "data": {
      "image/png": "[encoded data removed]",
      "text/plain": [
       "<Figure size 640x480 with 1 Axes>"
      ]
     },
     "metadata": {},
     "output_type": "display_data"
    }
   ],
   "source": [
    "def errVSh(f,alpha, beta, L, N):\n",
    "    Nvec = [int(np.power(2,i)) for i in range(4, 13)]\n",
    "    err = np.zeros(len(Nvec))\n",
    "\n",
    "    for i in range(0, len(Nvec)):\n",
    "        y, x = solve(f, alpha, beta, L, Nvec[i])\n",
    "        y_an = np.zeros(((Nvec[i]+1), 1))  #Skapar en vektor för den exakta lösningen\n",
    "        j=0\n",
    "        for j in range(Nvec[i]+1):\n",
    "            y_an[j] = los(x[j], alpha, beta, L)  #Fyller vektorn med den exakta lösningen\n",
    "        err[i] = np.sqrt(L/(Nvec[i]+1)) * la.norm(y-y_an) #Beräknar RMS med norm *(delta x)^2 \n",
    "\n",
    "    deltaX=np.zeros(len(Nvec))\n",
    "    for i in range(len(Nvec)):\n",
    "        deltaX[i] = L / (Nvec[i] +1)\n",
    "    plt.grid()\n",
    "    plt.xlabel(\"Stepsize deltaX\")\n",
    "    plt.ylabel(\"The global error\")\n",
    "    plt.title(\"The global error as a function of stepsize\")\n",
    "    #plt.loglog(deltaX, err, 'r')\n",
    "    return np.log(err), np.log(deltaX)\n",
    "\n",
    "alpha, beta, L, N = 3, 8, 100, 200\n",
    "\n",
    "x, y = errVSh(f, alpha, beta, L, N)  #Vi verkar bara få ordo 1? Har vi missuppfattat något? \n",
    "plt.plot(x, y)"
   ]
  },
  {
   "cell_type": "code",
   "execution_count": 8,
   "metadata": {},
   "outputs": [],
   "source": [
    "# alpha, beta, L, N = 3, -5, 50, 200\n",
    "\n",
    "# deltaX = L/(N+1)\n",
    "# y, x = solve(f, alpha, beta, L, N)\n",
    "\n",
    "# y_an = np.zeros(((N+1), 1))\n",
    "# for i in range(N+1):\n",
    "#     y_an[i] = los(x[i], alpha, beta, L)\n",
    "\n",
    "# xlog = np.log(x)\n",
    "# errlog = np.log(np.abs(y-y_an))\n",
    "\n",
    "\n",
    "# err = np.sqrt(deltaX) * la.norm(y-y_an)\n",
    "\n",
    "# plt.loglog(x, err)\n",
    "# plt.plot(x, y)\n",
    "# plt.plot(x, y_an)\n",
    "# plt.plot(x, np.zeros_like(y))\n",
    "#plt.plot(xlog[0:N], errlog[0:N])"
   ]
  },
  {
   "cell_type": "markdown",
   "metadata": {},
   "source": [
    "## Task 1.2"
   ]
  },
  {
   "cell_type": "code",
   "execution_count": null,
   "metadata": {},
   "outputs": [],
   "source": [
    "f = f2\n",
    "alpha = 4\n",
    "beta = -100\n",
    "N = 100\n",
    "L = 10\n",
    "fvec, Xvec = fvecgen(f, alpha, beta, L, N)\n",
    "y = twopBVP(fvec, alpha, beta, L, N)\n",
    "\n",
    "plt.plot(Xvec, y)\n",
    "plt.plot(Xvec, los2(Xvec,alpha,beta,L), '--')\n"
   ]
  },
  {
   "cell_type": "code",
   "execution_count": null,
   "metadata": {},
   "outputs": [],
   "source": [
    "f = f2\n",
    "Nvec = np.linspace(3,12,10).astype(int)\n",
    "Nvec = 2**Nvec\n",
    "errorvec = []\n",
    "hvec = []\n",
    "for N in Nvec:\n",
    "    fvec, Xvec = fvecgen(f, alpha, beta, L, N)\n",
    "    y = twopBVP(fvec, alpha, beta, L, N)\n",
    "    deltaX = L/(N+1)\n",
    "    errorvec.append(np.sqrt(deltaX)*la.norm(y - los2(Xvec,alpha,beta,L)))\n",
    " \n",
    "    hvec.append(deltaX)\n",
    "\n",
    "plt.figure()\n",
    "plt.plot(np.log(hvec), np.log(errorvec))\n",
    "plt.plot(np.log(hvec), 2 * np.log(hvec) + np.log(errorvec[0]) - 2*np.log(hvec[0]), '--')\n",
    "plt.xlabel('h')\n",
    "plt.ylabel('Error')\n",
    "plt.legend(['Our error', 'h^2'])\n",
    "plt.title('Proving that the error is O(h^2)')\n"
   ]
  },
  {
   "cell_type": "code",
   "execution_count": null,
   "metadata": {},
   "outputs": [],
   "source": [
    "E = 1.9e+11\n",
    "L = 10 \n",
    "alpha, beta = 0,0\n",
    "N = 999 \n",
    "q = -50000\n",
    "\n",
    "def I(x):\n",
    "    return 1e-3*(3-2*np.cos(np.pi*x/L)**12) \n",
    "\n",
    "Xvec = np.linspace(0,L,N+2)\n",
    "Q = np.ones((N, 1)) * q\n",
    "M = twopBVP(Q, alpha, beta,  L, N)\n",
    "\n",
    "MEIvec = M[1:N+1]/(E*I(Xvec[1:N+1]))\n",
    "\n",
    "U = twopBVP(MEIvec, alpha, beta,  L, N)  \n",
    "\n",
    "plt.grid()\n",
    "plt.plot(Xvec, U*1e3) #Förlänger med 1000 för att det ska ses lite tydligare \n",
    "plt.xlabel(\"x-coordinate (meter)\")\n",
    "plt.ylabel(\"Calculated Deflection in mm\")\n",
    "plt.title('Deflection as a function of position')\n",
    "\n",
    "print(\"The deflection at the midpoint of the steelbeem is equal to \" + str(1e3 * U[500]) + \" mm\")"
   ]
  }
 ],
 "metadata": {
  "kernelspec": {
   "display_name": "base",
   "language": "python",
   "name": "python3"
  },
  "language_info": {
   "codemirror_mode": {
    "name": "ipython",
    "version": 3
   },
   "file_extension": ".py",
   "mimetype": "text/x-python",
   "name": "python",
   "nbconvert_exporter": "python",
   "pygments_lexer": "ipython3",
   "version": "3.12.0"
  }
 },
 "nbformat": 4,
 "nbformat_minor": 2
}
