{
 "cells": [
  {
   "cell_type": "code",
   "execution_count": null,
   "metadata": {},
   "outputs": [],
   "source": [
    "import numpy as np\n",
    "import math\n",
    "import scipy.linalg as la\n",
    "import matplotlib.pyplot as plt"
   ]
  },
  {
   "cell_type": "code",
   "execution_count": null,
   "metadata": {},
   "outputs": [],
   "source": [
    "# def f(x): #Här skapar vi en testfunktion \n",
    "#     return x**2\n",
    "\n",
    "# def los(x,alpha,beta,L): #Här definierar vi den exakta lösningen till ovanstående testfunktion\n",
    "#     return (x**4)/12 + (beta - alpha - (L**4)/12)*x/L + alpha\n",
    "\n",
    "def los(x, alpha, beta, L):\n",
    "    return np.log(x +1) + (beta - alpha - np.log(L+1))*x/L + alpha\n",
    "\n",
    "def f(x):\n",
    "    return -1/((x+1)**2)\n"
   ]
  },
  {
   "cell_type": "code",
   "execution_count": null,
   "metadata": {},
   "outputs": [],
   "source": [
    "def twopBVP(fvec, alpha, beta, L, N):\n",
    "    deltaX = L/(N+1)\n",
    "    T = np.eye(len(fvec))*-2 \n",
    "    for i in range(len(fvec)-1): #Denna for loopen  skapar T-matrisen. Kan skrivas mer effektivt. \n",
    "        T[i+1,i] = 1\n",
    "        T[i, i+1] = 1\n",
    "        \n",
    "    return (deltaX**2)*np.linalg.inv(T)@fvec #Detta löser ekvationen och spottar ut en vektor innehållande y(i). \n",
    "\n",
    "def solve(f,alpha, beta, L, N): #Tanken är att denna ska generera högerledet som man sedan stoppar in i twopBVP för att lösa. \n",
    "    deltaX = L/(N+1)\n",
    "    fvec = np.zeros(((N-1), 1)) ##fvec är två element kortare än grid för den innehåller bara de inre punkterna\n",
    "    grid = np.linspace(0,L,N+1)\n",
    "\n",
    "    fvec[0] = -alpha/(deltaX**2) + f(grid[1]) #Första och sista elementet i fvec fixar vi manuellt. \n",
    "    fvec[-1] = -beta/(deltaX**2) + f(grid[-2])\n",
    "\n",
    "    for i in range(1, N-2):  #Fyller fvec med funktionsvärdena F(x1) till F(xN-1)\n",
    "        fvec[i] = f(grid[i])\n",
    "\n",
    "    ans = np.zeros(((N+1), 1))\n",
    "    ans[0] = alpha\n",
    "    ans[1:N] = twopBVP(fvec, alpha, beta,  L, N)\n",
    "    ans[-1] = beta\n",
    "\n",
    "    return ans, grid #Spottar ut grid för att plotta sen \n",
    "\n",
    "    \n"
   ]
  },
  {
   "cell_type": "code",
   "execution_count": null,
   "metadata": {},
   "outputs": [],
   "source": [
    "def errVSh(f,alpha, beta, L, N):\n",
    "    Nvec = [int(np.power(2,i)) for i in range(4, 13)]\n",
    "    err = np.zeros(len(Nvec))\n",
    "\n",
    "    for i in range(0, len(Nvec)):\n",
    "        y, x = solve(f, alpha, beta, L, Nvec[i])\n",
    "        y_an = np.zeros(((Nvec[i]+1), 1))\n",
    "        j=0\n",
    "        for j in range(Nvec[i]+1):\n",
    "            y_an[j] = los(x[j], alpha, beta, L)\n",
    "        err[i] = np.sqrt(L/(Nvec[i]+1)) * la.norm(y-y_an) \n",
    "\n",
    "    deltaX=np.zeros(len(Nvec))\n",
    "    for i in range(len(Nvec)):\n",
    "        deltaX[i] = L / (Nvec[i] +1)\n",
    "    plt.grid()\n",
    "    plt.xlabel(\"Stepsize deltaX\")\n",
    "    plt.ylabel(\"The global error\")\n",
    "    plt.title(\"The global error as a function of stepsize\")\n",
    "    #plt.loglog(deltaX, err, 'r')\n",
    "    return np.log(err), np.log(deltaX)\n",
    "\n",
    "alpha, beta, L, N = 3, 8, 50, 200\n",
    "\n",
    "x, y = errVSh(f, alpha, beta, L, N)\n",
    "plt.plot(x, y)"
   ]
  },
  {
   "cell_type": "code",
   "execution_count": null,
   "metadata": {},
   "outputs": [],
   "source": [
    "# alpha, beta, L, N = 3, -5, 50, 200\n",
    "\n",
    "\n",
    "\n",
    "# deltaX = L/(N+1)\n",
    "# y, x = solve(f, alpha, beta, L, N)\n",
    "\n",
    "# y_an = np.zeros(((N+1), 1))\n",
    "# for i in range(N+1):\n",
    "#     y_an[i] = los(x[i], alpha, beta, L)\n",
    "\n",
    "# xlog = np.log(x)\n",
    "# errlog = np.log(np.abs(y-y_an))\n",
    "\n",
    "\n",
    "# err = np.sqrt(deltaX) * la.norm(y-y_an)\n",
    "\n",
    "# plt.loglog(x, err)\n",
    "# plt.plot(x, y)\n",
    "# plt.plot(x, y_an)\n",
    "# plt.plot(x, np.zeros_like(y))\n",
    "#plt.plot(xlog[0:N], errlog[0:N])"
   ]
  },
  {
   "cell_type": "code",
   "execution_count": null,
   "metadata": {},
   "outputs": [],
   "source": []
  }
 ],
 "metadata": {
  "kernelspec": {
   "display_name": "base",
   "language": "python",
   "name": "python3"
  },
  "language_info": {
   "codemirror_mode": {
    "name": "ipython",
    "version": 3
   },
   "file_extension": ".py",
   "mimetype": "text/x-python",
   "name": "python",
   "nbconvert_exporter": "python",
   "pygments_lexer": "ipython3",
   "version": "3.9.13"
  }
 },
 "nbformat": 4,
 "nbformat_minor": 2
}
