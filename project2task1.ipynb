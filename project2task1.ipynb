{
 "cells": [
  {
   "cell_type": "code",
   "execution_count": null,
   "metadata": {},
   "outputs": [],
   "source": [
    "import numpy as np\n",
    "import scipy.linalg as la\n",
    "import matplotlib.pyplot as plt"
   ]
  },
  {
   "cell_type": "markdown",
   "metadata": {},
   "source": [
    "## Task 1.1"
   ]
  },
  {
   "cell_type": "code",
   "execution_count": null,
   "metadata": {},
   "outputs": [],
   "source": [
    "def f2(x): #Här skapar vi en testfunktion \n",
    "    return x**2\n",
    "\n",
    "def los2(x,alpha,beta,L): #Här definierar vi den exakta lösningen till ovanstående testfunktion\n",
    "    return (x**4)/12 + (beta - alpha - (L**4)/12)*x/L + alpha\n"
   ]
  },
  {
   "cell_type": "code",
   "execution_count": null,
   "metadata": {},
   "outputs": [],
   "source": [
    "def twopBVP(fvec, alpha, beta, L, N):\n",
    "    deltaX = L/(N+1)\n",
    "\n",
    "    #Här skapar vi T-matrisen med toeplits kommandot \n",
    "    first_row = np.array([-2, 1] + [0] * (N-2))\n",
    "    T = la.toeplitz(first_row)\n",
    "    T = T/(deltaX**2)\n",
    "\n",
    "    #Här löser vi ut y och stoppar in randvärdena. \n",
    "    y = np.linalg.inv(T)@fvec\n",
    "    y = np.insert(y, 0, alpha)\n",
    "    y = np.append(y,beta)\n",
    "    \n",
    "    return  y #spottar ut en vektor innehållande y(i). \n",
    "\n",
    "def fvecgen(f,alpha, beta, L, N): #Tanken är att denna ska generera högerledet som man sedan stoppar in i twopBVP för att lösa. \n",
    "    deltaX = L/(N+1)\n",
    "\n",
    "    Xvec = np.linspace(0,L,N+2)\n",
    "    fvec = f(Xvec[1:N+1]) #Fyller fvec med funktionsvärdena F(x1) till F(xN-1)\n",
    "    \n",
    "    fvec[0] += -alpha/(deltaX**2) #Första och sista elementet i fvec fixar vi manuellt. \n",
    "    fvec[-1] += -beta/(deltaX**2)\n",
    "\n",
    "    return fvec, Xvec"
   ]
  },
  {
   "cell_type": "code",
   "execution_count": null,
   "metadata": {},
   "outputs": [],
   "source": [
    "f = f2\n",
    "alpha = 4\n",
    "beta = -100\n",
    "N = 100\n",
    "L = 10\n",
    "fvec, Xvec = fvecgen(f, alpha, beta, L, N)\n",
    "y = twopBVP(fvec, alpha, beta, L, N)\n",
    "\n",
    "plt.plot(Xvec, y)\n",
    "plt.grid()\n",
    "plt.plot(Xvec, los2(Xvec,alpha,beta,L), '--')\n"
   ]
  },
  {
   "cell_type": "code",
   "execution_count": null,
   "metadata": {},
   "outputs": [],
   "source": [
    "f = f2\n",
    "Nvec = np.linspace(3,12,10).astype(int)\n",
    "Nvec = 2**Nvec\n",
    "errorvec = []\n",
    "hvec = []\n",
    "for N in Nvec:\n",
    "    fvec, Xvec = fvecgen(f, alpha, beta, L, N)\n",
    "    y = twopBVP(fvec, alpha, beta, L, N)\n",
    "    deltaX = L/(N+1)\n",
    "    errorvec.append(np.sqrt(deltaX)*la.norm(y - los2(Xvec,alpha,beta,L)))\n",
    " \n",
    "    hvec.append(deltaX)\n",
    "\n",
    "plt.figure()\n",
    "plt.grid()\n",
    "plt.plot(np.log(hvec), np.log(errorvec))\n",
    "plt.plot(np.log(hvec), 2 * np.log(hvec) + np.log(errorvec[0]) - 2*np.log(hvec[0]), '--')\n",
    "plt.xlabel('h')\n",
    "plt.ylabel('Error')\n",
    "plt.legend(['Our error', 'h^2'])\n",
    "plt.title('Proving that the error is O(h^2)')\n"
   ]
  },
  {
   "cell_type": "markdown",
   "metadata": {},
   "source": [
    "## Task 1.2"
   ]
  },
  {
   "cell_type": "code",
   "execution_count": null,
   "metadata": {},
   "outputs": [],
   "source": [
    "E = 1.9e+11\n",
    "L = 10 \n",
    "alpha, beta = 0,0\n",
    "N = 999 \n",
    "q = -50000\n",
    "\n",
    "def I(x):\n",
    "    return 1e-3*(3-2*np.cos(np.pi*x/L)**12) \n",
    "\n",
    "Xvec = np.linspace(0,L,N+2)\n",
    "Q = np.ones((N, 1)) * q\n",
    "M = twopBVP(Q, alpha, beta,  L, N)\n",
    "\n",
    "MEIvec = M[1:N+1]/(E*I(Xvec[1:N+1]))\n",
    "\n",
    "U = twopBVP(MEIvec, alpha, beta,  L, N)  \n",
    "\n",
    "plt.grid()\n",
    "plt.plot(Xvec, U*1e3) #Förlänger med 1000 för att det ska ses lite tydligare \n",
    "plt.xlabel(\"x-coordinate (meter)\")\n",
    "plt.ylabel(\"Calculated Deflection in mm\")\n",
    "plt.title('Deflection as a function of position')\n",
    "\n",
    "print(\"The deflection at the midpoint of the steelbeem is equal to \" + str(1e3 * U[500]) + \" mm\")"
   ]
  }
 ],
 "metadata": {
  "kernelspec": {
   "display_name": "base",
   "language": "python",
   "name": "python3"
  },
  "language_info": {
   "codemirror_mode": {
    "name": "ipython",
    "version": 3
   },
   "file_extension": ".py",
   "mimetype": "text/x-python",
   "name": "python",
   "nbconvert_exporter": "python",
   "pygments_lexer": "ipython3",
   "version": "3.12.0"
  }
 },
 "nbformat": 4,
 "nbformat_minor": 2
}
