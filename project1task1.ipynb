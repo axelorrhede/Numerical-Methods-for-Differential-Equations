{
 "cells": [
  {
   "cell_type": "code",
   "execution_count": null,
   "metadata": {},
   "outputs": [],
   "source": [
    "import numpy as np\n",
    "import math\n",
    "import scipy.linalg as la\n",
    "import matplotlib.pyplot as plt"
   ]
  },
  {
   "cell_type": "markdown",
   "metadata": {},
   "source": [
    "## Task 1.1"
   ]
  },
  {
   "cell_type": "code",
   "execution_count": null,
   "metadata": {},
   "outputs": [],
   "source": [
    "def RK4step(lamd,told, uold, h): # Denna klassen skrivs just nu där f = skalär*y. \n",
    "    Y1 = lamd*uold    #Y1 definieras som f(uold,told).\n",
    "    Y2 = lamd*(uold + h*Y1/2)\n",
    "    Y3 = lamd*(uold + h*Y2/2)\n",
    "    Y4 = lamd*(uold + h*Y3)\n",
    "    unew = uold + (h/6)*(Y1 + 2*Y2 + 2*Y3 + Y4)\n",
    "\n",
    "    return unew\n",
    "\n",
    "def RK4Int(lamd, y0,t0,tf,N):\n",
    "    h = (tf-t0)/N\n",
    "\n",
    "    Y = np.zeros((N, 2)) #En matris med vilket steg vi är på samt vilken tid som det motsvarar. \n",
    "    Y[0,0] = y0\n",
    "    Y[0,1] = t0\n",
    "\n",
    "    for i in range(N-1):\n",
    "         x = RK4step(lamd, Y[i,1], Y[i,0], h)\n",
    "         Y[i+1, 0] = x\n",
    "         Y[i+1, 1] = Y[i,1] + h\n",
    "\n",
    "    correct = np.zeros_like(Y)\n",
    "    error = np.zeros_like(Y)\n",
    "    for i in range(N):\n",
    "        correct[i,0] = np.exp(lamd*Y[i,1])*y0\n",
    "\n",
    "    error[:,0] = abs(Y[:,0]-correct[:,0])\n",
    "    error[:,1] = Y[:,1]\n",
    "\n",
    "    return Y, error, correct"
   ]
  },
  {
   "cell_type": "code",
   "execution_count": null,
   "metadata": {},
   "outputs": [],
   "source": [
    "def errVSh(A, y0, t0, tf):\n",
    "    Nvec = [int(np.power(2,i)) for i in range(3, 10)]\n",
    "    err = np.zeros(len(Nvec))\n",
    "    for i in range(len(Nvec)):\n",
    "        Y,error, correct = RK4Int(A, y0, t0, tf, Nvec[i])\n",
    "        err[i] = error[-1, 0]\n",
    "\n",
    "    h=np.zeros(len(Nvec))\n",
    "    for i in range(len(Nvec)):\n",
    "        h[i] = (tf - t0) /Nvec[i]\n",
    "    plt.grid()\n",
    "    plt.xlabel(\"Stepsize h\")\n",
    "    plt.ylabel(\"The global error\")\n",
    "    plt.title(\"The global error as a function of stepsize\")\n",
    "    plt.loglog(h, err, 'r')\n",
    "    return np.log(err), np.log(h)"
   ]
  },
  {
   "cell_type": "code",
   "execution_count": null,
   "metadata": {},
   "outputs": [],
   "source": [
    "lamd = 0.5 \n",
    "y0 = 1\n",
    "t0 = 0 \n",
    "tf = 1\n",
    "logerr, logh = errVSh(lamd,y0,t0,tf) #Väldigt linjärt och fint för denna tidsskalan. \n",
    "plt.show()\n",
    "plt.title(\"Is it O(h^4)?\")\n",
    "plt.xlabel(\"Log of stepsize\")\n",
    "plt.ylabel(\"Log of the global error\")\n",
    "plt.grid()\n",
    "plt.plot(logh,logerr) #Här plottar vi det logarimerade steglängden mot det logaritmerade felet"
   ]
  },
  {
   "cell_type": "markdown",
   "metadata": {},
   "source": [
    "## Task 1.2-1.4"
   ]
  },
  {
   "cell_type": "code",
   "execution_count": null,
   "metadata": {},
   "outputs": [],
   "source": [
    "def RK34step(f, told, Yold, h):\n",
    "    Y1 = f(told, Yold)\n",
    "    Y2 = f(told + h/2, Yold + h/2*Y1)\n",
    "    Y3 = f(told + h/2, Yold + h/2*Y2)\n",
    "    Z3 = f(told + h, Yold - h*Y1 + 2*h*Y2)\n",
    "    Y4 = f(told + h, Yold + h*Y3)\n",
    "    Ynew = Yold + h/6*(Y1 + 2*Y2 + 2*Y3 + Y4)\n",
    "\n",
    "    err = np.abs(h/6*(2*Y2+Z3-2*Y3-Y4))\n",
    "\n",
    "    return Ynew, err #Ser bra ut \n",
    "\n",
    "def newstep (tol, err, errold, hold, k):\n",
    "    hnew = hold * np.power(tol/err, 2/(3*k))*np.power(tol/errold, -1/(3*k))  #Ser bra ut \n",
    "    return hnew\n",
    "    \n",
    "def adaptiveRK34(f, t0, tf, y0, tol):\n",
    "    k = 4\n",
    "    h = (tf-t0)*np.power(tol,1/4)/(100*(1+la.norm(f(t0,y0)))) # Ser bra ut.\n",
    "    t = [t0]\n",
    "    Y = [y0]\n",
    "    ERR = [tol]\n",
    "    y, err = RK34step(f, t[-1], y0, h)\n",
    "    Y.append(y) #Begynnelseplatsen (efter y0)\n",
    "    ERR.append(err) #Begynnelsefelet\n",
    "    t.append(t[-1] + h)\n",
    "    h = newstep(tol, ERR[-1], ERR[-2], h, k)  #Ändrade till err[-2] istället för tol. \n",
    "\n",
    "\n",
    "    while t[-1] + h < tf:\n",
    "        y, err = RK34step(f, t[-1], Y[-1], h)\n",
    "        Y.append(y)\n",
    "        ERR.append(err)\n",
    "        t.append(t[-1] + h)\n",
    "        h = newstep(tol, ERR[-1], ERR[-2], h, k) #Bytte plats på h och t append h. \n",
    "       \n",
    "\n",
    "    y, err = RK34step(f, t[-1], Y[-1], tf-t[-1]) #Ser bra ut \n",
    "    t.append(tf)\n",
    "    Y.append(y)\n",
    "    ERR.append(err)\n",
    "    return t, Y, ERR\n"
   ]
  },
  {
   "cell_type": "code",
   "execution_count": null,
   "metadata": {},
   "outputs": [],
   "source": [
    "y0 = 1\n",
    "f = lambda t, y: -1.05*y\n",
    "t, Y, ERR = adaptiveRK34(f, 0, 10, y0, 1e-6)\n",
    "plt.xlabel(\"The time\")\n",
    "plt.ylabel(\"Functionvalue\")\n",
    "plt.title(\"Our solution to the ODE\")\n",
    "plt.grid()\n",
    "plt.plot(t, Y, 'b')\n",
    "print(\"Amount of steps: \", len(t))\n"
   ]
  },
  {
   "cell_type": "code",
   "execution_count": null,
   "metadata": {},
   "outputs": [],
   "source": [
    "y0 = 1\n",
    "f = lambda t, y: -1.05*y\n",
    "t, Y, ERR = adaptiveRK34(f, 0, 10, y0, 1e-12) # Fett många steg när vi sänker toleransen.\n",
    "plt.xlabel(\"The time\")\n",
    "plt.ylabel(\"Functionvalue\")\n",
    "plt.title(\"Our solution to the ODE\")\n",
    "plt.grid()\n",
    "plt.plot(t, Y, 'b')\n",
    "print(\"Amount of steps: \", len(t))"
   ]
  }
 ],
 "metadata": {
  "kernelspec": {
   "display_name": "Python 3",
   "language": "python",
   "name": "python3"
  },
  "language_info": {
   "codemirror_mode": {
    "name": "ipython",
    "version": 3
   },
   "file_extension": ".py",
   "mimetype": "text/x-python",
   "name": "python",
   "nbconvert_exporter": "python",
   "pygments_lexer": "ipython3",
   "version": "3.11.6"
  },
  "orig_nbformat": 4
 },
 "nbformat": 4,
 "nbformat_minor": 2
}
