{
 "cells": [
  {
   "cell_type": "code",
   "execution_count": null,
   "metadata": {},
   "outputs": [],
   "source": [
    "import numpy as np\n",
    "import math\n",
    "import scipy.linalg as la\n",
    "import matplotlib.pyplot as plt"
   ]
  },
  {
   "cell_type": "code",
   "execution_count": null,
   "metadata": {},
   "outputs": [],
   "source": [
    "def RK34step(f, told, Yold, h):\n",
    "    Y1 = f(told, Yold)\n",
    "    Y2 = f(told + h/2, Yold + h/2*Y1)\n",
    "    Y3 = f(told + h/2, Yold + h/2*Y2)\n",
    "    Z3 = f(told + h, Yold - h*Y1 + 2*h*Y2)\n",
    "    Y4 = f(told + h, Yold + h*Y3)\n",
    "    Ynew = Yold + h/6*(Y1 + 2*Y2 + 2*Y3 + Y4)\n",
    "\n",
    "    err = np.abs(h/6*(2*Y2+Z3-2*Y3-Y4))\n",
    "\n",
    "    return Ynew, err\n",
    "\n",
    "def newstep (tol, err, errold, hold, k):\n",
    "    hnew = hold * np.power(tol/err, 2/(3*k))*np.power(tol/errold, -1/(3*k))\n",
    "    return hnew\n",
    "    \n",
    "def adaptiveRK34(f, t0, tf, y0, tol):\n",
    "    k = 4\n",
    "    h = (tf-t0)*np.power(tol,1/4)/(100*(1+la.norm(f(t0,y0))))\n",
    "    t = [t0]\n",
    "    Y = [y0]\n",
    "    ERR = [0]\n",
    "    y, err = RK34step(f, t[-1], y0, h)\n",
    "    Y.append(y)\n",
    "    ERR.append(err)\n",
    "    h = newstep(tol, ERR[-1], tol, h, k)\n",
    "    t.append(t[-1] + h)\n",
    "\n",
    "    while t[-1] + h < tf:\n",
    "        y, err = RK34step(f, t[-1], Y[-1], h)\n",
    "        Y.append(y)\n",
    "        ERR.append(err)\n",
    "        h = newstep(tol, ERR[-1], ERR[-2], h, k)\n",
    "        t.append(t[-1] + h)\n",
    "\n",
    "    y, err = RK34step(f, t[-1], Y[-1], tf-t[-1])\n",
    "    t.append(tf)\n",
    "    Y.append(y)\n",
    "    ERR.append(err)\n",
    "    return t, Y, ERR\n"
   ]
  },
  {
   "cell_type": "code",
   "execution_count": null,
   "metadata": {},
   "outputs": [],
   "source": [
    "def lotka(t,u):\n",
    "    a = 3\n",
    "    b = 9\n",
    "    c = 15\n",
    "    d = 15\n",
    "    return a*u(1)-b*u(1)*u(2), c*u(1)*u(2)-d*u(2)"
   ]
  },
  {
   "cell_type": "code",
   "execution_count": null,
   "metadata": {},
   "outputs": [],
   "source": [
    "y0 = 1\n",
    "f = lambda t, y: -1.05*y\n",
    "t, Y, ERR = adaptiveRK34(f, 0, 10, y0, 1e-6)\n",
    "plt.plot(t, Y, 'b')\n",
    "print(\"Antal steg: \", len(t))\n"
   ]
  }
 ],
 "metadata": {
  "kernelspec": {
   "display_name": "Python 3",
   "language": "python",
   "name": "python3"
  },
  "language_info": {
   "codemirror_mode": {
    "name": "ipython",
    "version": 3
   },
   "file_extension": ".py",
   "mimetype": "text/x-python",
   "name": "python",
   "nbconvert_exporter": "python",
   "pygments_lexer": "ipython3",
   "version": "3.11.6"
  },
  "orig_nbformat": 4
 },
 "nbformat": 4,
 "nbformat_minor": 2
}
