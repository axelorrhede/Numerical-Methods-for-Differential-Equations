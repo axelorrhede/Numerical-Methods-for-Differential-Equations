{
 "cells": [
  {
   "cell_type": "code",
   "execution_count": null,
   "metadata": {},
   "outputs": [],
   "source": [
    "import numpy as np\n",
    "import math\n",
    "import scipy.linalg as la\n",
    "import matplotlib.pyplot as plt"
   ]
  },
  {
   "cell_type": "code",
   "execution_count": null,
   "metadata": {},
   "outputs": [],
   "source": [
    "def RK34step(f, told, Yold, h):\n",
    "    Y1 = f(told, Yold)\n",
    "    Y2 = f(told + h/2, Yold + h/2*Y1)\n",
    "    Y3 = f(told + h/2, Yold + h/2*Y2)\n",
    "    Z3 = f(told + h, Yold - h*Y1 + 2*h*Y2)\n",
    "    Y4 = f(told + h, Yold + h*Y3)\n",
    "    Ynew = Yold + h/6*(Y1 + 2*Y2 + 2*Y3 + Y4)\n",
    "\n",
    "    err = np.abs(h/6*(2*Y2+Z3-2*Y3-Y4))\n",
    "    return Ynew, err\n",
    "\n",
    "def newstep (tol, err, errold, hold, k):\n",
    "    hnew = hold * np.power(tol/max(err), 2/(3*k))*np.power(tol/max(errold), -1/(3*k))\n",
    "    return hnew\n",
    "    \n",
    "def adaptiveRK34(f, t0, tf, y0, tol):\n",
    "    k = 4\n",
    "    h = (tf-t0)*np.power(tol,1/4)/(100*(1+la.norm(f(t0,y0))))\n",
    "    t = [t0]\n",
    "    Y = [y0]\n",
    "    ERR = [np.zeros_like(y0)]\n",
    "    y, err = RK34step(f, t[-1], y0, h)\n",
    "    Y.append(y)\n",
    "    ERR.append(err)\n",
    "    t.append(t[-1] + h)\n",
    "    h = newstep(tol, ERR[-1], np.array([tol, tol]), h, k)   #Bytte plats på t append och h. \n",
    "   \n",
    "\n",
    "    while t[-1] + h < tf:\n",
    "        y, err = RK34step(f, t[-1], Y[-1], h)\n",
    "        Y.append(y)\n",
    "        ERR.append(err)\n",
    "        t.append(t[-1] + h)\n",
    "        h = newstep(tol, ERR[-1], ERR[-2], h, k)     #Bytte plats på t append och h. \n",
    "\n",
    "    y, err = RK34step(f, t[-1], Y[-1], tf-t[-1])\n",
    "    t.append(tf)\n",
    "    Y.append(y)\n",
    "    ERR.append(err)\n",
    "    return t, Y, ERR\n"
   ]
  },
  {
   "cell_type": "code",
   "execution_count": null,
   "metadata": {},
   "outputs": [],
   "source": [
    "def lotka(t,u):  #Den här funktionen definierar lotka \n",
    "    a = 3\n",
    "    b = 9\n",
    "    c = 15\n",
    "    d = 15\n",
    "    return np.array([a*u[0]-b*u[0]*u[1], c*u[0]*u[1]-d*u[1]])"
   ]
  },
  {
   "cell_type": "code",
   "execution_count": null,
   "metadata": {},
   "outputs": [],
   "source": [
    "t, Y, ERR = adaptiveRK34(lotka, 0, 150, np.array([1.5,1.5]), 1e-6)\n",
    "plt.grid()\n",
    "plt.title(\"The size of each population\")\n",
    "plt.xlabel(\"Time, where on cycle represents~ 1.5 units\")\n",
    "plt.ylabel(\"Population size, red = foxes, blue = rabbits\")\n",
    "plt.plot(t, Y)\n",
    "x = [Yx[0] for Yx in Y] #Plockar ut varje element på plats 0 i Y. Kaniner \n",
    "y = [Yy[1] for Yy in Y] #Plockar ut varje element på plats 1 i Y. Rävar\n",
    "plt.show()\n",
    "plt.grid()\n",
    "plt.title(\"Investigation of periodicity\")\n",
    "plt.xlabel(\"X-value\")\n",
    "plt.ylabel(\"Y-value\")\n",
    "plt.plot(x,y)\n",
    "print(Y[0])\n",
    "print(Y[51]) \n",
    "print(Y[52])\n",
    "print(Y[53])\n",
    "print(Y[54])\n"
   ]
  },
  {
   "cell_type": "code",
   "execution_count": null,
   "metadata": {},
   "outputs": [],
   "source": [
    "H = [15*n[0] + 9*n[1] - 15*np.log(n[0]) - 3*np.log(n[1]) for n in Y] #n[0] representerar x, eller antalet kaniner, n[1] representerar y dvs antalet rävar\n",
    "H = np.array(H)\n",
    "H = abs((H/H[0])-1)\n",
    "plt.title(\"Does H remain constant?\")\n",
    "plt.ylabel(\"Difference from zero\")\n",
    "plt.xlabel(\"Time\")\n",
    "plt.grid()\n",
    "plt.plot(t, H) "
   ]
  },
  {
   "cell_type": "code",
   "execution_count": null,
   "metadata": {},
   "outputs": [],
   "source": []
  }
 ],
 "metadata": {
  "kernelspec": {
   "display_name": "Python 3",
   "language": "python",
   "name": "python3"
  },
  "language_info": {
   "codemirror_mode": {
    "name": "ipython",
    "version": 3
   },
   "file_extension": ".py",
   "mimetype": "text/x-python",
   "name": "python",
   "nbconvert_exporter": "python",
   "pygments_lexer": "ipython3",
   "version": "3.9.13"
  },
  "orig_nbformat": 4
 },
 "nbformat": 4,
 "nbformat_minor": 2
}
