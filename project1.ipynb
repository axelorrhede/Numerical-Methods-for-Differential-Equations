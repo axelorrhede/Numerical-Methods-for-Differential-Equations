{
 "cells": [
  {
   "cell_type": "code",
   "execution_count": 2,
   "metadata": {},
   "outputs": [],
   "source": [
    "import numpy as np\n",
    "import math\n",
    "import scipy.linalg as la\n",
    "import matplotlib.pyplot as plt"
   ]
  },
  {
   "cell_type": "code",
   "execution_count": null,
   "metadata": {},
   "outputs": [],
   "source": [
    "##Här skulle vi nog behöva ha ett kodstycke för att definiera f."
   ]
  },
  {
   "cell_type": "markdown",
   "metadata": {},
   "source": [
    "### Nedanför har vi RK4step och RK4int "
   ]
  },
  {
   "cell_type": "code",
   "execution_count": 4,
   "metadata": {},
   "outputs": [],
   "source": [
    "def RK4step(lamd,told, uold, h): # Denna klassen skrivs just nu där f = skalär*y. \n",
    "    Y1 = lamd*uold    #Y1 definieras som f(uold,told).\n",
    "    Y2 = lamd*(uold + h*Y1/2)\n",
    "    Y3 = lamd*(uold + h*Y2/2)\n",
    "    Y4 = lamd*(uold + h*Y3)\n",
    "    unew = uold + (h/6)*(Y1 + 2*Y2 + 2*Y3 + Y4)\n",
    "\n",
    "    return unew\n",
    "\n",
    "def RK4Int(lamd, y0,t0,tf,N):\n",
    "    h = (tf-t0)/N\n",
    "    tgrid = np.linspace(t0,tf,N)\n",
    "    dim = lamd.shape()\n",
    "\n",
    "    Y = np.zeros((N, 2)) #En matris med vilket steg vi är på samt vilken tid som det motsvarar. \n",
    "    Y[0,0] = y0\n",
    "    Y[0,1] = t0\n",
    "\n",
    "    for i in range(N-1):\n",
    "         x = RK4step(lamd, Y[i,0], Y[i,1], h)\n",
    "         Y[i+1] = x, Y[i,1] + h\n",
    "\n",
    "    correct = np.zeros_like(Y)\n",
    "    error = np.zeros_like(Y)\n",
    "    for i in range(N):\n",
    "        correct[i,:] = la.expm(A*tgrid[i])@y0\n",
    "\n",
    "    error = abs(Y-correct)\n",
    "\n",
    "    \n"
   ]
  },
  {
   "cell_type": "code",
   "execution_count": null,
   "metadata": {},
   "outputs": [],
   "source": []
  }
 ],
 "metadata": {
  "kernelspec": {
   "display_name": "base",
   "language": "python",
   "name": "python3"
  },
  "language_info": {
   "codemirror_mode": {
    "name": "ipython",
    "version": 3
   },
   "file_extension": ".py",
   "mimetype": "text/x-python",
   "name": "python",
   "nbconvert_exporter": "python",
   "pygments_lexer": "ipython3",
   "version": "3.9.13"
  }
 },
 "nbformat": 4,
 "nbformat_minor": 2
}
