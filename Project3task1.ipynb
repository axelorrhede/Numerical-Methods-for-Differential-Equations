{
 "cells": [
  {
   "cell_type": "code",
   "execution_count": null,
   "metadata": {},
   "outputs": [],
   "source": [
    "import numpy as np\n",
    "import math\n",
    "import scipy.linalg as la\n",
    "import matplotlib.pyplot as plt\n",
    "import scipy\n",
    "from mpl_toolkits.mplot3d import Axes3D\n"
   ]
  },
  {
   "cell_type": "markdown",
   "metadata": {},
   "source": [
    "## Task 1.1 "
   ]
  },
  {
   "cell_type": "code",
   "execution_count": null,
   "metadata": {},
   "outputs": [],
   "source": [
    "def eulerstep(Tdx, uold, dt):  ##My guy gör comeback \n",
    "    unew = uold + dt*(Tdx@uold)\n",
    "    return unew"
   ]
  },
  {
   "cell_type": "code",
   "execution_count": null,
   "metadata": {},
   "outputs": [],
   "source": [
    "def eulersolve(g0, alpha, beta, tend, N, M):\n",
    "     deltaX = 1/(N+2)  # rumssteg från x0 till xN+1\n",
    "     dt = tend/M  # tidsteg från t0 till tN\n",
    "     Xgrid = np.linspace(0, 1, N+2)\n",
    "     tgrid = np.linspace(0, tend, M+1)\n",
    "     Tdx = la.toeplitz(np.array([-2, 1] + [0] * (N-2))) ##Skapar en Toeplitz matris för disc av andraderivatan\n",
    "     Tdx = Tdx/(deltaX**2)   #Den hanterar endast interior grid points \n",
    "\n",
    "     Y = np.zeros((M+1, N)) #Första värdet är tidssteget, andra är x-steget.\n",
    "     Y[0,:] = g0\n",
    "\n",
    "     for i in range(M):\n",
    "          Y[i+1,:] = np.transpose(eulerstep(Tdx, np.transpose(Y[i, :]), dt))\n",
    "     Y = np.hstack((alpha*np.ones((M+1, 1)), Y, beta*np.ones((M+1, 1)))) #Lägger till gränsvärdena\n",
    "     \n",
    "     return Y, Xgrid, tgrid\n",
    "          \n"
   ]
  },
  {
   "cell_type": "code",
   "execution_count": null,
   "metadata": {},
   "outputs": [],
   "source": [
    "def plot3D(Y, Xgrid, tgrid):\n",
    "     T, X = np.meshgrid(np.transpose(tgrid), Xgrid)\n",
    "\n",
    "     # Create a 3D plot\n",
    "     fig = plt.figure(figsize=(10, 10))  # You can adjust the size as needed\n",
    "     ax = fig.add_subplot(111, projection='3d')\n",
    "     ax.plot_surface(T, X, np.transpose(Y))\n",
    "\n",
    "     ax.set_xlabel('Time')\n",
    "     ax.set_ylabel('Space')\n",
    "     ax.set_zlabel('Value')\n",
    "\n",
    "     plt.show()"
   ]
  },
  {
   "cell_type": "code",
   "execution_count": null,
   "metadata": {},
   "outputs": [],
   "source": [
    "N = 10\n",
    "M = 1000\n",
    "if M > 2*(N+1)**2:\n",
    "     print(\"will converge\")\n",
    "else:\n",
    "     print(\"This will not converge\")\n",
    "alpha = 0\n",
    "beta = 0\n",
    "g0 = np.random.normal(loc=0.0, scale=1.0, size=N)\n",
    "tend = 1\n",
    "Y, Xgrid, tgrid = eulersolve(g0, alpha, beta, tend, N, M)\n",
    "plot3D(Y, Xgrid, tgrid)\n"
   ]
  },
  {
   "cell_type": "code",
   "execution_count": null,
   "metadata": {},
   "outputs": [],
   "source": [
    "N = 10\n",
    "alpha = 0\n",
    "beta = 0\n",
    "g0 = np.random.normal(loc=0.0, scale=1.0, size=N)\n",
    "tend = 1\n",
    "maxX = 0\n",
    "for X in range(1, 100):\n",
    "     X = X/100\n",
    "     M = int(1/X*(N+1)**2)\n",
    "     Y, Xgrid, tgrid = eulersolve(g0, alpha, beta, tend, N, M)\n",
    "     if np.sum(np.abs(Y[-1,:])) < 0.001:\n",
    "          #print('Converged at X = ' + str(X))\n",
    "          maxX = X\n",
    "     else:\n",
    "          #print('Did not converge at X = ' +  str(X))\n",
    "          break\n",
    "#plot3D(Y, Xgrid, tgrid)\n",
    "\n",
    "print('CFL = ' + str(maxX))"
   ]
  }
 ],
 "metadata": {
  "kernelspec": {
   "display_name": "base",
   "language": "python",
   "name": "python3"
  },
  "language_info": {
   "codemirror_mode": {
    "name": "ipython",
    "version": 3
   },
   "file_extension": ".py",
   "mimetype": "text/x-python",
   "name": "python",
   "nbconvert_exporter": "python",
   "pygments_lexer": "ipython3",
   "version": "3.9.13"
  }
 },
 "nbformat": 4,
 "nbformat_minor": 2
}
