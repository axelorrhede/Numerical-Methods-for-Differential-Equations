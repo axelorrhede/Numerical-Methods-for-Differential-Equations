{
 "cells": [
  {
   "cell_type": "code",
   "execution_count": 1,
   "metadata": {},
   "outputs": [],
   "source": [
    "import numpy as np\n",
    "import math\n",
    "import scipy.linalg as la\n",
    "import matplotlib.pyplot as plt\n",
    "import scipy"
   ]
  },
  {
   "cell_type": "markdown",
   "metadata": {},
   "source": [
    "## Task 1.1 "
   ]
  },
  {
   "cell_type": "code",
   "execution_count": 2,
   "metadata": {},
   "outputs": [],
   "source": [
    "def eulerstep(Tdx, uold, dt):  ##My guy gör comeback \n",
    "    unew = uold + dt*Tdx@uold\n",
    "    return unew"
   ]
  },
  {
   "cell_type": "code",
   "execution_count": 7,
   "metadata": {},
   "outputs": [],
   "source": [
    "def eulersolve(g0, alpha, beta, tend, N):\n",
    "    deltaX = 1/(N+2)  \n",
    "    dt = tend/N  \n",
    "    Tgrid = linspace(0, tend, N)  \n",
    "    Xgrid = linspace(0, 1, N+2)\n",
    "\n",
    "    T = la.toeplitz(np.array([-2, 1] + [0] * (N-2))) ##Skapar en Toeplitz matris för disc av andraderivatan\n",
    "    T = T/(deltaX**2)   #Den hanterar endast interior grid points \n",
    "    \n",
    "    Y = np.zeros((N, N)) \n",
    "    Y[0,:] = g0\n",
    "\n",
    "    for i in range(N-1):\n",
    "         x = eulerstep(T, np.transpose(Y[i, :]), dt)\n",
    "         Y[i+1,:] = np.transpose(x)\n",
    "\n",
    "    return Y, Tgrid, T, Xgrid"
   ]
  },
  {
   "cell_type": "code",
   "execution_count": null,
   "metadata": {},
   "outputs": [],
   "source": []
  }
 ],
 "metadata": {
  "kernelspec": {
   "display_name": "base",
   "language": "python",
   "name": "python3"
  },
  "language_info": {
   "codemirror_mode": {
    "name": "ipython",
    "version": 3
   },
   "file_extension": ".py",
   "mimetype": "text/x-python",
   "name": "python",
   "nbconvert_exporter": "python",
   "pygments_lexer": "ipython3",
   "version": "3.9.13"
  }
 },
 "nbformat": 4,
 "nbformat_minor": 2
}
